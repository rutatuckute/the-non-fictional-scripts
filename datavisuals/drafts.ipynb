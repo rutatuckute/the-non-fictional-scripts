{
 "cells": [
  {
   "cell_type": "code",
   "execution_count": 1,
   "metadata": {},
   "outputs": [],
   "source": [
    "import pandas as pd\n",
    "import plotly\n",
    "import plotly.io as pio\n",
    "import plotly.graph_objects as go"
   ]
  },
  {
   "cell_type": "code",
   "execution_count": 2,
   "metadata": {},
   "outputs": [
    {
     "data": {
      "text/html": [
       "<div>\n",
       "<style scoped>\n",
       "    .dataframe tbody tr th:only-of-type {\n",
       "        vertical-align: middle;\n",
       "    }\n",
       "\n",
       "    .dataframe tbody tr th {\n",
       "        vertical-align: top;\n",
       "    }\n",
       "\n",
       "    .dataframe thead th {\n",
       "        text-align: right;\n",
       "    }\n",
       "</style>\n",
       "<table border=\"1\" class=\"dataframe\">\n",
       "  <thead>\n",
       "    <tr style=\"text-align: right;\">\n",
       "      <th></th>\n",
       "      <th>Entity</th>\n",
       "      <th>Code</th>\n",
       "      <th>Year</th>\n",
       "      <th>GDP per capita</th>\n",
       "      <th>417485-annotations</th>\n",
       "    </tr>\n",
       "  </thead>\n",
       "  <tbody>\n",
       "    <tr>\n",
       "      <th>0</th>\n",
       "      <td>Afghanistan</td>\n",
       "      <td>AFG</td>\n",
       "      <td>1950</td>\n",
       "      <td>1156.0</td>\n",
       "      <td>NaN</td>\n",
       "    </tr>\n",
       "    <tr>\n",
       "      <th>1</th>\n",
       "      <td>Afghanistan</td>\n",
       "      <td>AFG</td>\n",
       "      <td>1951</td>\n",
       "      <td>1170.0</td>\n",
       "      <td>NaN</td>\n",
       "    </tr>\n",
       "    <tr>\n",
       "      <th>2</th>\n",
       "      <td>Afghanistan</td>\n",
       "      <td>AFG</td>\n",
       "      <td>1952</td>\n",
       "      <td>1189.0</td>\n",
       "      <td>NaN</td>\n",
       "    </tr>\n",
       "    <tr>\n",
       "      <th>3</th>\n",
       "      <td>Afghanistan</td>\n",
       "      <td>AFG</td>\n",
       "      <td>1953</td>\n",
       "      <td>1240.0</td>\n",
       "      <td>NaN</td>\n",
       "    </tr>\n",
       "    <tr>\n",
       "      <th>4</th>\n",
       "      <td>Afghanistan</td>\n",
       "      <td>AFG</td>\n",
       "      <td>1954</td>\n",
       "      <td>1245.0</td>\n",
       "      <td>NaN</td>\n",
       "    </tr>\n",
       "  </tbody>\n",
       "</table>\n",
       "</div>"
      ],
      "text/plain": [
       "        Entity Code  Year  GDP per capita 417485-annotations\n",
       "0  Afghanistan  AFG  1950          1156.0                NaN\n",
       "1  Afghanistan  AFG  1951          1170.0                NaN\n",
       "2  Afghanistan  AFG  1952          1189.0                NaN\n",
       "3  Afghanistan  AFG  1953          1240.0                NaN\n",
       "4  Afghanistan  AFG  1954          1245.0                NaN"
      ]
     },
     "execution_count": 2,
     "metadata": {},
     "output_type": "execute_result"
    }
   ],
   "source": [
    "df = pd.read_csv('gdp-per-capita.csv', sep=',')\n",
    "df.head()"
   ]
  },
  {
   "cell_type": "code",
   "execution_count": 3,
   "metadata": {},
   "outputs": [],
   "source": [
    "years = list(set(df.Year.to_list()))\n",
    "years = years[-50:]\n",
    "dict_keys = [str(x) for x in range(1, len(years)+1)]"
   ]
  },
  {
   "cell_type": "code",
   "execution_count": 4,
   "metadata": {},
   "outputs": [
    {
     "data": {
      "text/html": [
       "<div>\n",
       "<style scoped>\n",
       "    .dataframe tbody tr th:only-of-type {\n",
       "        vertical-align: middle;\n",
       "    }\n",
       "\n",
       "    .dataframe tbody tr th {\n",
       "        vertical-align: top;\n",
       "    }\n",
       "\n",
       "    .dataframe thead th {\n",
       "        text-align: right;\n",
       "    }\n",
       "</style>\n",
       "<table border=\"1\" class=\"dataframe\">\n",
       "  <thead>\n",
       "    <tr style=\"text-align: right;\">\n",
       "      <th></th>\n",
       "      <th>Entity</th>\n",
       "      <th>Code</th>\n",
       "      <th>Year</th>\n",
       "      <th>GDP per capita</th>\n",
       "      <th>417485-annotations</th>\n",
       "    </tr>\n",
       "  </thead>\n",
       "  <tbody>\n",
       "    <tr>\n",
       "      <th>16984</th>\n",
       "      <td>Switzerland</td>\n",
       "      <td>CHE</td>\n",
       "      <td>1969</td>\n",
       "      <td>22307.673828</td>\n",
       "      <td>NaN</td>\n",
       "    </tr>\n",
       "    <tr>\n",
       "      <th>19006</th>\n",
       "      <td>United States</td>\n",
       "      <td>USA</td>\n",
       "      <td>1969</td>\n",
       "      <td>24195.000000</td>\n",
       "      <td>NaN</td>\n",
       "    </tr>\n",
       "    <tr>\n",
       "      <th>8832</th>\n",
       "      <td>Kuwait</td>\n",
       "      <td>KWT</td>\n",
       "      <td>1969</td>\n",
       "      <td>33415.000000</td>\n",
       "      <td>NaN</td>\n",
       "    </tr>\n",
       "    <tr>\n",
       "      <th>18018</th>\n",
       "      <td>United Arab Emirates</td>\n",
       "      <td>ARE</td>\n",
       "      <td>1969</td>\n",
       "      <td>40639.000000</td>\n",
       "      <td>NaN</td>\n",
       "    </tr>\n",
       "    <tr>\n",
       "      <th>14322</th>\n",
       "      <td>Qatar</td>\n",
       "      <td>QAT</td>\n",
       "      <td>1969</td>\n",
       "      <td>56236.000000</td>\n",
       "      <td>NaN</td>\n",
       "    </tr>\n",
       "  </tbody>\n",
       "</table>\n",
       "</div>"
      ],
      "text/plain": [
       "                     Entity Code  Year  GDP per capita 417485-annotations\n",
       "16984           Switzerland  CHE  1969    22307.673828                NaN\n",
       "19006         United States  USA  1969    24195.000000                NaN\n",
       "8832                 Kuwait  KWT  1969    33415.000000                NaN\n",
       "18018  United Arab Emirates  ARE  1969    40639.000000                NaN\n",
       "14322                 Qatar  QAT  1969    56236.000000                NaN"
      ]
     },
     "execution_count": 4,
     "metadata": {},
     "output_type": "execute_result"
    }
   ],
   "source": [
    "n_frame = {}\n",
    "\n",
    "for x, y in zip(years, dict_keys):\n",
    "    data = df[df['Year']==x]\n",
    "    data = data.nlargest(n=5, columns=['GDP per capita'])\n",
    "    data = data.sort_values(by=['Year', 'GDP per capita'])\n",
    "    \n",
    "    n_frame[y] = data\n",
    "\n",
    "n_frame['1']"
   ]
  },
  {
   "cell_type": "code",
   "execution_count": 23,
   "metadata": {},
   "outputs": [],
   "source": [
    "dataframes_list = []\n",
    "\n",
    "for x, y in zip(years, dict_keys):\n",
    "    data = df[df['Year']==x]\n",
    "    data = data.nlargest(n=5, columns=['GDP per capita'])\n",
    "    data = data.sort_values(by=['Year', 'GDP per capita'])\n",
    "    \n",
    "    dataframes_list.append(data)\n",
    "    \n",
    "df_2 = pd.concat(dataframes_list)"
   ]
  },
  {
   "cell_type": "code",
   "execution_count": 26,
   "metadata": {},
   "outputs": [
    {
     "data": {
      "application/vnd.plotly.v1+json": {
       "config": {
        "plotlyServerURL": "https://plot.ly"
       },
       "data": [
        {
         "alignmentgroup": "True",
         "hovertemplate": "Year=1969<br>GDP per capita=%{x}<br>Entity=%{y}<extra></extra>",
         "ids": [
          "Switzerland",
          "United States",
          "Kuwait",
          "United Arab Emirates",
          "Qatar"
         ],
         "legendgroup": "",
         "marker": {
          "color": "#636efa",
          "pattern": {
           "shape": ""
          }
         },
         "name": "",
         "offsetgroup": "",
         "orientation": "h",
         "showlegend": false,
         "textposition": "auto",
         "type": "bar",
         "x": [
          22307.673828125,
          24195,
          33415,
          40639,
          56236
         ],
         "xaxis": "x",
         "y": [
          "Switzerland",
          "United States",
          "Kuwait",
          "United Arab Emirates",
          "Qatar"
         ],
         "yaxis": "y"
        }
       ],
       "frames": [
        {
         "data": [
          {
           "alignmentgroup": "True",
           "hovertemplate": "Year=1969<br>GDP per capita=%{x}<br>Entity=%{y}<extra></extra>",
           "ids": [
            "Switzerland",
            "United States",
            "Kuwait",
            "United Arab Emirates",
            "Qatar"
           ],
           "legendgroup": "",
           "marker": {
            "color": "#636efa",
            "pattern": {
             "shape": ""
            }
           },
           "name": "",
           "offsetgroup": "",
           "orientation": "h",
           "showlegend": false,
           "textposition": "auto",
           "type": "bar",
           "x": [
            22307.673828125,
            24195,
            33415,
            40639,
            56236
           ],
           "xaxis": "x",
           "y": [
            "Switzerland",
            "United States",
            "Kuwait",
            "United Arab Emirates",
            "Qatar"
           ],
           "yaxis": "y"
          }
         ],
         "name": "1969"
        },
        {
         "data": [
          {
           "alignmentgroup": "True",
           "hovertemplate": "Year=1970<br>GDP per capita=%{x}<br>Entity=%{y}<extra></extra>",
           "ids": [
            "Switzerland",
            "United States",
            "United Arab Emirates",
            "Kuwait",
            "Qatar"
           ],
           "legendgroup": "",
           "marker": {
            "color": "#636efa",
            "pattern": {
             "shape": ""
            }
           },
           "name": "",
           "offsetgroup": "",
           "orientation": "h",
           "showlegend": false,
           "textposition": "auto",
           "type": "bar",
           "x": [
            23478.9921875,
            23958,
            39135,
            48927,
            51921
           ],
           "xaxis": "x",
           "y": [
            "Switzerland",
            "United States",
            "United Arab Emirates",
            "Kuwait",
            "Qatar"
           ],
           "yaxis": "y"
          }
         ],
         "name": "1970"
        },
        {
         "data": [
          {
           "alignmentgroup": "True",
           "hovertemplate": "Year=1971<br>GDP per capita=%{x}<br>Entity=%{y}<extra></extra>",
           "ids": [
            "United States",
            "Switzerland",
            "United Arab Emirates",
            "Kuwait",
            "Qatar"
           ],
           "legendgroup": "",
           "marker": {
            "color": "#636efa",
            "pattern": {
             "shape": ""
            }
           },
           "name": "",
           "offsetgroup": "",
           "orientation": "h",
           "showlegend": false,
           "textposition": "auto",
           "type": "bar",
           "x": [
            24394,
            24486.978515625,
            39540,
            49302,
            59731
           ],
           "xaxis": "x",
           "y": [
            "United States",
            "Switzerland",
            "United Arab Emirates",
            "Kuwait",
            "Qatar"
           ],
           "yaxis": "y"
          }
         ],
         "name": "1971"
        },
        {
         "data": [
          {
           "alignmentgroup": "True",
           "hovertemplate": "Year=1972<br>GDP per capita=%{x}<br>Entity=%{y}<extra></extra>",
           "ids": [
            "Switzerland",
            "United States",
            "United Arab Emirates",
            "Kuwait",
            "Qatar"
           ],
           "legendgroup": "",
           "marker": {
            "color": "#636efa",
            "pattern": {
             "shape": ""
            }
           },
           "name": "",
           "offsetgroup": "",
           "orientation": "h",
           "showlegend": false,
           "textposition": "auto",
           "type": "bar",
           "x": [
            25356.91015625,
            25414,
            39540,
            48283,
            62416
           ],
           "xaxis": "x",
           "y": [
            "Switzerland",
            "United States",
            "United Arab Emirates",
            "Kuwait",
            "Qatar"
           ],
           "yaxis": "y"
          }
         ],
         "name": "1972"
        },
        {
         "data": [
          {
           "alignmentgroup": "True",
           "hovertemplate": "Year=1973<br>GDP per capita=%{x}<br>Entity=%{y}<extra></extra>",
           "ids": [
            "Switzerland",
            "United States",
            "United Arab Emirates",
            "Kuwait",
            "Qatar"
           ],
           "legendgroup": "",
           "marker": {
            "color": "#636efa",
            "pattern": {
             "shape": ""
            }
           },
           "name": "",
           "offsetgroup": "",
           "orientation": "h",
           "showlegend": false,
           "textposition": "auto",
           "type": "bar",
           "x": [
            26003.71484375,
            26602,
            39669,
            42542,
            68407
           ],
           "xaxis": "x",
           "y": [
            "Switzerland",
            "United States",
            "United Arab Emirates",
            "Kuwait",
            "Qatar"
           ],
           "yaxis": "y"
          }
         ],
         "name": "1973"
        },
        {
         "data": [
          {
           "alignmentgroup": "True",
           "hovertemplate": "Year=1974<br>GDP per capita=%{x}<br>Entity=%{y}<extra></extra>",
           "ids": [
            "Switzerland",
            "United States",
            "Kuwait",
            "United Arab Emirates",
            "Qatar"
           ],
           "legendgroup": "",
           "marker": {
            "color": "#636efa",
            "pattern": {
             "shape": ""
            }
           },
           "name": "",
           "offsetgroup": "",
           "orientation": "h",
           "showlegend": false,
           "textposition": "auto",
           "type": "bar",
           "x": [
            25718.26953125,
            26286,
            34962,
            45347,
            57594
           ],
           "xaxis": "x",
           "y": [
            "Switzerland",
            "United States",
            "Kuwait",
            "United Arab Emirates",
            "Qatar"
           ],
           "yaxis": "y"
          }
         ],
         "name": "1974"
        },
        {
         "data": [
          {
           "alignmentgroup": "True",
           "hovertemplate": "Year=1975<br>GDP per capita=%{x}<br>Entity=%{y}<extra></extra>",
           "ids": [
            "Switzerland",
            "United States",
            "Kuwait",
            "United Arab Emirates",
            "Qatar"
           ],
           "legendgroup": "",
           "marker": {
            "color": "#636efa",
            "pattern": {
             "shape": ""
            }
           },
           "name": "",
           "offsetgroup": "",
           "orientation": "h",
           "showlegend": false,
           "textposition": "auto",
           "type": "bar",
           "x": [
            24467.9921875,
            25956,
            28950,
            40591,
            54866
           ],
           "xaxis": "x",
           "y": [
            "Switzerland",
            "United States",
            "Kuwait",
            "United Arab Emirates",
            "Qatar"
           ],
           "yaxis": "y"
          }
         ],
         "name": "1975"
        },
        {
         "data": [
          {
           "alignmentgroup": "True",
           "hovertemplate": "Year=1976<br>GDP per capita=%{x}<br>Entity=%{y}<extra></extra>",
           "ids": [
            "Switzerland",
            "United States",
            "Kuwait",
            "United Arab Emirates",
            "Qatar"
           ],
           "legendgroup": "",
           "marker": {
            "color": "#636efa",
            "pattern": {
             "shape": ""
            }
           },
           "name": "",
           "offsetgroup": "",
           "orientation": "h",
           "showlegend": false,
           "textposition": "auto",
           "type": "bar",
           "x": [
            24752.908203125,
            27058,
            28956,
            40803,
            55169
           ],
           "xaxis": "x",
           "y": [
            "Switzerland",
            "United States",
            "Kuwait",
            "United Arab Emirates",
            "Qatar"
           ],
           "yaxis": "y"
          }
         ],
         "name": "1976"
        },
        {
         "data": [
          {
           "alignmentgroup": "True",
           "hovertemplate": "Year=1977<br>GDP per capita=%{x}<br>Entity=%{y}<extra></extra>",
           "ids": [
            "Switzerland",
            "Kuwait",
            "United States",
            "United Arab Emirates",
            "Qatar"
           ],
           "legendgroup": "",
           "marker": {
            "color": "#636efa",
            "pattern": {
             "shape": ""
            }
           },
           "name": "",
           "offsetgroup": "",
           "orientation": "h",
           "showlegend": false,
           "textposition": "auto",
           "type": "bar",
           "x": [
            25430.568359375,
            26168,
            28001,
            41915,
            45999
           ],
           "xaxis": "x",
           "y": [
            "Switzerland",
            "Kuwait",
            "United States",
            "United Arab Emirates",
            "Qatar"
           ],
           "yaxis": "y"
          }
         ],
         "name": "1977"
        },
        {
         "data": [
          {
           "alignmentgroup": "True",
           "hovertemplate": "Year=1978<br>GDP per capita=%{x}<br>Entity=%{y}<extra></extra>",
           "ids": [
            "Switzerland",
            "Kuwait",
            "United States",
            "United Arab Emirates",
            "Qatar"
           ],
           "legendgroup": "",
           "marker": {
            "color": "#636efa",
            "pattern": {
             "shape": ""
            }
           },
           "name": "",
           "offsetgroup": "",
           "orientation": "h",
           "showlegend": false,
           "textposition": "auto",
           "type": "bar",
           "x": [
            26158.80078125,
            26363,
            29286,
            35936,
            47072
           ],
           "xaxis": "x",
           "y": [
            "Switzerland",
            "Kuwait",
            "United States",
            "United Arab Emirates",
            "Qatar"
           ],
           "yaxis": "y"
          }
         ],
         "name": "1978"
        },
        {
         "data": [
          {
           "alignmentgroup": "True",
           "hovertemplate": "Year=1979<br>GDP per capita=%{x}<br>Entity=%{y}<extra></extra>",
           "ids": [
            "Switzerland",
            "Kuwait",
            "United States",
            "United Arab Emirates",
            "Qatar"
           ],
           "legendgroup": "",
           "marker": {
            "color": "#636efa",
            "pattern": {
             "shape": ""
            }
           },
           "name": "",
           "offsetgroup": "",
           "orientation": "h",
           "showlegend": false,
           "textposition": "auto",
           "type": "bar",
           "x": [
            26641.095703125,
            28174,
            29949,
            39534,
            45806
           ],
           "xaxis": "x",
           "y": [
            "Switzerland",
            "Kuwait",
            "United States",
            "United Arab Emirates",
            "Qatar"
           ],
           "yaxis": "y"
          }
         ],
         "name": "1979"
        },
        {
         "data": [
          {
           "alignmentgroup": "True",
           "hovertemplate": "Year=1980<br>GDP per capita=%{x}<br>Entity=%{y}<extra></extra>",
           "ids": [
            "Switzerland",
            "Western Offshoots",
            "United States",
            "United Arab Emirates",
            "Qatar"
           ],
           "legendgroup": "",
           "marker": {
            "color": "#636efa",
            "pattern": {
             "shape": ""
            }
           },
           "name": "",
           "offsetgroup": "",
           "orientation": "h",
           "showlegend": false,
           "textposition": "auto",
           "type": "bar",
           "x": [
            27405.73046875,
            28786.76171875,
            29611,
            44168,
            45860
           ],
           "xaxis": "x",
           "y": [
            "Switzerland",
            "Western Offshoots",
            "United States",
            "United Arab Emirates",
            "Qatar"
           ],
           "yaxis": "y"
          }
         ],
         "name": "1980"
        },
        {
         "data": [
          {
           "alignmentgroup": "True",
           "hovertemplate": "Year=1981<br>GDP per capita=%{x}<br>Entity=%{y}<extra></extra>",
           "ids": [
            "Canada",
            "Switzerland",
            "United States",
            "Qatar",
            "United Arab Emirates"
           ],
           "legendgroup": "",
           "marker": {
            "color": "#636efa",
            "pattern": {
             "shape": ""
            }
           },
           "name": "",
           "offsetgroup": "",
           "orientation": "h",
           "showlegend": false,
           "textposition": "auto",
           "type": "bar",
           "x": [
            26256,
            27729.5859375,
            30056,
            37307,
            42456
           ],
           "xaxis": "x",
           "y": [
            "Canada",
            "Switzerland",
            "United States",
            "Qatar",
            "United Arab Emirates"
           ],
           "yaxis": "y"
          }
         ],
         "name": "1981"
        },
        {
         "data": [
          {
           "alignmentgroup": "True",
           "hovertemplate": "Year=1982<br>GDP per capita=%{x}<br>Entity=%{y}<extra></extra>",
           "ids": [
            "Iceland",
            "Switzerland",
            "Qatar",
            "United States",
            "United Arab Emirates"
           ],
           "legendgroup": "",
           "marker": {
            "color": "#636efa",
            "pattern": {
             "shape": ""
            }
           },
           "name": "",
           "offsetgroup": "",
           "orientation": "h",
           "showlegend": false,
           "textposition": "auto",
           "type": "bar",
           "x": [
            25477,
            27660.94921875,
            29046,
            29210,
            36635
           ],
           "xaxis": "x",
           "y": [
            "Iceland",
            "Switzerland",
            "Qatar",
            "United States",
            "United Arab Emirates"
           ],
           "yaxis": "y"
          }
         ],
         "name": "1982"
        },
        {
         "data": [
          {
           "alignmentgroup": "True",
           "hovertemplate": "Year=1983<br>GDP per capita=%{x}<br>Entity=%{y}<extra></extra>",
           "ids": [
            "Canada",
            "Luxembourg",
            "Switzerland",
            "United States",
            "United Arab Emirates"
           ],
           "legendgroup": "",
           "marker": {
            "color": "#636efa",
            "pattern": {
             "shape": ""
            }
           },
           "name": "",
           "offsetgroup": "",
           "orientation": "h",
           "showlegend": false,
           "textposition": "auto",
           "type": "bar",
           "x": [
            25625,
            25738,
            28009.328125,
            30158,
            32737
           ],
           "xaxis": "x",
           "y": [
            "Canada",
            "Luxembourg",
            "Switzerland",
            "United States",
            "United Arab Emirates"
           ],
           "yaxis": "y"
          }
         ],
         "name": "1983"
        },
        {
         "data": [
          {
           "alignmentgroup": "True",
           "hovertemplate": "Year=1984<br>GDP per capita=%{x}<br>Entity=%{y}<extra></extra>",
           "ids": [
            "Canada",
            "Luxembourg",
            "Switzerland",
            "United States",
            "United Arab Emirates"
           ],
           "legendgroup": "",
           "marker": {
            "color": "#636efa",
            "pattern": {
             "shape": ""
            }
           },
           "name": "",
           "offsetgroup": "",
           "orientation": "h",
           "showlegend": false,
           "textposition": "auto",
           "type": "bar",
           "x": [
            26836,
            27303,
            28315.08203125,
            32076,
            32135
           ],
           "xaxis": "x",
           "y": [
            "Canada",
            "Luxembourg",
            "Switzerland",
            "United States",
            "United Arab Emirates"
           ],
           "yaxis": "y"
          }
         ],
         "name": "1984"
        },
        {
         "data": [
          {
           "alignmentgroup": "True",
           "hovertemplate": "Year=1985<br>GDP per capita=%{x}<br>Entity=%{y}<extra></extra>",
           "ids": [
            "Canada",
            "Luxembourg",
            "Switzerland",
            "United Arab Emirates",
            "United States"
           ],
           "legendgroup": "",
           "marker": {
            "color": "#636efa",
            "pattern": {
             "shape": ""
            }
           },
           "name": "",
           "offsetgroup": "",
           "orientation": "h",
           "showlegend": false,
           "textposition": "auto",
           "type": "bar",
           "x": [
            28025,
            28032,
            29416.751953125,
            29562,
            33023
           ],
           "xaxis": "x",
           "y": [
            "Canada",
            "Luxembourg",
            "Switzerland",
            "United Arab Emirates",
            "United States"
           ],
           "yaxis": "y"
          }
         ],
         "name": "1985"
        },
        {
         "data": [
          {
           "alignmentgroup": "True",
           "hovertemplate": "Year=1986<br>GDP per capita=%{x}<br>Entity=%{y}<extra></extra>",
           "ids": [
            "Norway",
            "Denmark",
            "Luxembourg",
            "Switzerland",
            "United States"
           ],
           "legendgroup": "",
           "marker": {
            "color": "#636efa",
            "pattern": {
             "shape": ""
            }
           },
           "name": "",
           "offsetgroup": "",
           "orientation": "h",
           "showlegend": false,
           "textposition": "auto",
           "type": "bar",
           "x": [
            28504,
            28681,
            30051,
            30847.994140625,
            33850
           ],
           "xaxis": "x",
           "y": [
            "Norway",
            "Denmark",
            "Luxembourg",
            "Switzerland",
            "United States"
           ],
           "yaxis": "y"
          }
         ],
         "name": "1986"
        },
        {
         "data": [
          {
           "alignmentgroup": "True",
           "hovertemplate": "Year=1987<br>GDP per capita=%{x}<br>Entity=%{y}<extra></extra>",
           "ids": [
            "Canada",
            "Iceland",
            "Luxembourg",
            "Switzerland",
            "United States"
           ],
           "legendgroup": "",
           "marker": {
            "color": "#636efa",
            "pattern": {
             "shape": ""
            }
           },
           "name": "",
           "offsetgroup": "",
           "orientation": "h",
           "showlegend": false,
           "textposition": "auto",
           "type": "bar",
           "x": [
            29246,
            29576,
            30533,
            31774.37109375,
            34730
           ],
           "xaxis": "x",
           "y": [
            "Canada",
            "Iceland",
            "Luxembourg",
            "Switzerland",
            "United States"
           ],
           "yaxis": "y"
          }
         ],
         "name": "1987"
        },
        {
         "data": [
          {
           "alignmentgroup": "True",
           "hovertemplate": "Year=1988<br>GDP per capita=%{x}<br>Entity=%{y}<extra></extra>",
           "ids": [
            "Denmark",
            "Canada",
            "Switzerland",
            "Luxembourg",
            "United States"
           ],
           "legendgroup": "",
           "marker": {
            "color": "#636efa",
            "pattern": {
             "shape": ""
            }
           },
           "name": "",
           "offsetgroup": "",
           "orientation": "h",
           "showlegend": false,
           "textposition": "auto",
           "type": "bar",
           "x": [
            29049,
            30275,
            32482.908203125,
            33351,
            35863
           ],
           "xaxis": "x",
           "y": [
            "Denmark",
            "Canada",
            "Switzerland",
            "Luxembourg",
            "United States"
           ],
           "yaxis": "y"
          }
         ],
         "name": "1988"
        },
        {
         "data": [
          {
           "alignmentgroup": "True",
           "hovertemplate": "Year=1989<br>GDP per capita=%{x}<br>Entity=%{y}<extra></extra>",
           "ids": [
            "Denmark",
            "Canada",
            "Switzerland",
            "Luxembourg",
            "United States"
           ],
           "legendgroup": "",
           "marker": {
            "color": "#636efa",
            "pattern": {
             "shape": ""
            }
           },
           "name": "",
           "offsetgroup": "",
           "orientation": "h",
           "showlegend": false,
           "textposition": "auto",
           "type": "bar",
           "x": [
            29108,
            30458,
            33315.5859375,
            36442,
            36756
           ],
           "xaxis": "x",
           "y": [
            "Denmark",
            "Canada",
            "Switzerland",
            "Luxembourg",
            "United States"
           ],
           "yaxis": "y"
          }
         ],
         "name": "1989"
        },
        {
         "data": [
          {
           "alignmentgroup": "True",
           "hovertemplate": "Year=1990<br>GDP per capita=%{x}<br>Entity=%{y}<extra></extra>",
           "ids": [
            "Canada",
            "Switzerland",
            "Western Offshoots",
            "Luxembourg",
            "United States"
           ],
           "legendgroup": "",
           "marker": {
            "color": "#636efa",
            "pattern": {
             "shape": ""
            }
           },
           "name": "",
           "offsetgroup": "",
           "orientation": "h",
           "showlegend": false,
           "textposition": "auto",
           "type": "bar",
           "x": [
            30082,
            34250,
            35619.375,
            36706,
            36982
           ],
           "xaxis": "x",
           "y": [
            "Canada",
            "Switzerland",
            "Western Offshoots",
            "Luxembourg",
            "United States"
           ],
           "yaxis": "y"
          }
         ],
         "name": "1990"
        },
        {
         "data": [
          {
           "alignmentgroup": "True",
           "hovertemplate": "Year=1991<br>GDP per capita=%{x}<br>Entity=%{y}<extra></extra>",
           "ids": [
            "Japan",
            "Norway",
            "Switzerland",
            "United States",
            "Luxembourg"
           ],
           "legendgroup": "",
           "marker": {
            "color": "#636efa",
            "pattern": {
             "shape": ""
            }
           },
           "name": "",
           "offsetgroup": "",
           "orientation": "h",
           "showlegend": false,
           "textposition": "auto",
           "type": "bar",
           "x": [
            30837.431640625,
            31127.67578125,
            34128.640625,
            36463.95703125,
            39198.30078125
           ],
           "xaxis": "x",
           "y": [
            "Japan",
            "Norway",
            "Switzerland",
            "United States",
            "Luxembourg"
           ],
           "yaxis": "y"
          }
         ],
         "name": "1991"
        },
        {
         "data": [
          {
           "alignmentgroup": "True",
           "hovertemplate": "Year=1992<br>GDP per capita=%{x}<br>Entity=%{y}<extra></extra>",
           "ids": [
            "Japan",
            "Norway",
            "Switzerland",
            "United States",
            "Luxembourg"
           ],
           "legendgroup": "",
           "marker": {
            "color": "#636efa",
            "pattern": {
             "shape": ""
            }
           },
           "name": "",
           "offsetgroup": "",
           "orientation": "h",
           "showlegend": false,
           "textposition": "auto",
           "type": "bar",
           "x": [
            30977.814453125,
            33041.20703125,
            34356.80078125,
            37240.30078125,
            39231.59375
           ],
           "xaxis": "x",
           "y": [
            "Japan",
            "Norway",
            "Switzerland",
            "United States",
            "Luxembourg"
           ],
           "yaxis": "y"
          }
         ],
         "name": "1992"
        },
        {
         "data": [
          {
           "alignmentgroup": "True",
           "hovertemplate": "Year=1993<br>GDP per capita=%{x}<br>Entity=%{y}<extra></extra>",
           "ids": [
            "Hong Kong",
            "Switzerland",
            "Norway",
            "United States",
            "Luxembourg"
           ],
           "legendgroup": "",
           "marker": {
            "color": "#636efa",
            "pattern": {
             "shape": ""
            }
           },
           "name": "",
           "offsetgroup": "",
           "orientation": "h",
           "showlegend": false,
           "textposition": "auto",
           "type": "bar",
           "x": [
            31242.19921875,
            34625.53515625,
            34819.515625,
            37761.53515625,
            40179.49609375
           ],
           "xaxis": "x",
           "y": [
            "Hong Kong",
            "Switzerland",
            "Norway",
            "United States",
            "Luxembourg"
           ],
           "yaxis": "y"
          }
         ],
         "name": "1993"
        },
        {
         "data": [
          {
           "alignmentgroup": "True",
           "hovertemplate": "Year=1994<br>GDP per capita=%{x}<br>Entity=%{y}<extra></extra>",
           "ids": [
            "Denmark",
            "Switzerland",
            "Norway",
            "United States",
            "Luxembourg"
           ],
           "legendgroup": "",
           "marker": {
            "color": "#636efa",
            "pattern": {
             "shape": ""
            }
           },
           "name": "",
           "offsetgroup": "",
           "orientation": "h",
           "showlegend": false,
           "textposition": "auto",
           "type": "bar",
           "x": [
            32359.296875,
            35423.828125,
            37492.8359375,
            38807.28125,
            40990.7109375
           ],
           "xaxis": "x",
           "y": [
            "Denmark",
            "Switzerland",
            "Norway",
            "United States",
            "Luxembourg"
           ],
           "yaxis": "y"
          }
         ],
         "name": "1994"
        },
        {
         "data": [
          {
           "alignmentgroup": "True",
           "hovertemplate": "Year=1995<br>GDP per capita=%{x}<br>Entity=%{y}<extra></extra>",
           "ids": [
            "Denmark",
            "Switzerland",
            "United States",
            "Norway",
            "Luxembourg"
           ],
           "legendgroup": "",
           "marker": {
            "color": "#636efa",
            "pattern": {
             "shape": ""
            }
           },
           "name": "",
           "offsetgroup": "",
           "orientation": "h",
           "showlegend": false,
           "textposition": "auto",
           "type": "bar",
           "x": [
            33356.140625,
            36004.23046875,
            39390.625,
            40043.796875,
            40838.56640625
           ],
           "xaxis": "x",
           "y": [
            "Denmark",
            "Switzerland",
            "United States",
            "Norway",
            "Luxembourg"
           ],
           "yaxis": "y"
          }
         ],
         "name": "1995"
        },
        {
         "data": [
          {
           "alignmentgroup": "True",
           "hovertemplate": "Year=1996<br>GDP per capita=%{x}<br>Entity=%{y}<extra></extra>",
           "ids": [
            "Denmark",
            "Switzerland",
            "United States",
            "Luxembourg",
            "Norway"
           ],
           "legendgroup": "",
           "marker": {
            "color": "#636efa",
            "pattern": {
             "shape": ""
            }
           },
           "name": "",
           "offsetgroup": "",
           "orientation": "h",
           "showlegend": false,
           "textposition": "auto",
           "type": "bar",
           "x": [
            34325.44140625,
            36720.4921875,
            40412.75,
            40687.90234375,
            43133.14453125
           ],
           "xaxis": "x",
           "y": [
            "Denmark",
            "Switzerland",
            "United States",
            "Luxembourg",
            "Norway"
           ],
           "yaxis": "y"
          }
         ],
         "name": "1996"
        },
        {
         "data": [
          {
           "alignmentgroup": "True",
           "hovertemplate": "Year=1997<br>GDP per capita=%{x}<br>Entity=%{y}<extra></extra>",
           "ids": [
            "Switzerland",
            "United Arab Emirates",
            "United States",
            "Luxembourg",
            "Norway"
           ],
           "legendgroup": "",
           "marker": {
            "color": "#636efa",
            "pattern": {
             "shape": ""
            }
           },
           "name": "",
           "offsetgroup": "",
           "orientation": "h",
           "showlegend": false,
           "textposition": "auto",
           "type": "bar",
           "x": [
            38165.4765625,
            38168.46484375,
            41722.671875,
            42311.34375,
            46556.48046875
           ],
           "xaxis": "x",
           "y": [
            "Switzerland",
            "United Arab Emirates",
            "United States",
            "Luxembourg",
            "Norway"
           ],
           "yaxis": "y"
          }
         ],
         "name": "1997"
        },
        {
         "data": [
          {
           "alignmentgroup": "True",
           "hovertemplate": "Year=1998<br>GDP per capita=%{x}<br>Entity=%{y}<extra></extra>",
           "ids": [
            "United Arab Emirates",
            "Switzerland",
            "United States",
            "Luxembourg",
            "Norway"
           ],
           "legendgroup": "",
           "marker": {
            "color": "#636efa",
            "pattern": {
             "shape": ""
            }
           },
           "name": "",
           "offsetgroup": "",
           "orientation": "h",
           "showlegend": false,
           "textposition": "auto",
           "type": "bar",
           "x": [
            39667.79296875,
            39890.5390625,
            43072.7578125,
            44142.55859375,
            48956.73046875
           ],
           "xaxis": "x",
           "y": [
            "United Arab Emirates",
            "Switzerland",
            "United States",
            "Luxembourg",
            "Norway"
           ],
           "yaxis": "y"
          }
         ],
         "name": "1998"
        },
        {
         "data": [
          {
           "alignmentgroup": "True",
           "hovertemplate": "Year=1999<br>GDP per capita=%{x}<br>Entity=%{y}<extra></extra>",
           "ids": [
            "Switzerland",
            "United Arab Emirates",
            "United States",
            "Luxembourg",
            "Norway"
           ],
           "legendgroup": "",
           "marker": {
            "color": "#636efa",
            "pattern": {
             "shape": ""
            }
           },
           "name": "",
           "offsetgroup": "",
           "orientation": "h",
           "showlegend": false,
           "textposition": "auto",
           "type": "bar",
           "x": [
            41091.63671875,
            42372.4375,
            44575.84765625,
            47061.109375,
            51129.18359375
           ],
           "xaxis": "x",
           "y": [
            "Switzerland",
            "United Arab Emirates",
            "United States",
            "Luxembourg",
            "Norway"
           ],
           "yaxis": "y"
          }
         ],
         "name": "1999"
        },
        {
         "data": [
          {
           "alignmentgroup": "True",
           "hovertemplate": "Year=2000<br>GDP per capita=%{x}<br>Entity=%{y}<extra></extra>",
           "ids": [
            "Qatar",
            "United States",
            "United Arab Emirates",
            "Luxembourg",
            "Norway"
           ],
           "legendgroup": "",
           "marker": {
            "color": "#636efa",
            "pattern": {
             "shape": ""
            }
           },
           "name": "",
           "offsetgroup": "",
           "orientation": "h",
           "showlegend": false,
           "textposition": "auto",
           "type": "bar",
           "x": [
            45788.12109375,
            45886.46875,
            48888.03125,
            50063.82421875,
            54039.9609375
           ],
           "xaxis": "x",
           "y": [
            "Qatar",
            "United States",
            "United Arab Emirates",
            "Luxembourg",
            "Norway"
           ],
           "yaxis": "y"
          }
         ],
         "name": "2000"
        },
        {
         "data": [
          {
           "alignmentgroup": "True",
           "hovertemplate": "Year=2001<br>GDP per capita=%{x}<br>Entity=%{y}<extra></extra>",
           "ids": [
            "United States",
            "Qatar",
            "Luxembourg",
            "United Arab Emirates",
            "Norway"
           ],
           "legendgroup": "",
           "marker": {
            "color": "#636efa",
            "pattern": {
             "shape": ""
            }
           },
           "name": "",
           "offsetgroup": "",
           "orientation": "h",
           "showlegend": false,
           "textposition": "auto",
           "type": "bar",
           "x": [
            45878.0078125,
            50525.70703125,
            50527.6640625,
            51263.375,
            56578.37890625
           ],
           "xaxis": "x",
           "y": [
            "United States",
            "Qatar",
            "Luxembourg",
            "United Arab Emirates",
            "Norway"
           ],
           "yaxis": "y"
          }
         ],
         "name": "2001"
        },
        {
         "data": [
          {
           "alignmentgroup": "True",
           "hovertemplate": "Year=2002<br>GDP per capita=%{x}<br>Entity=%{y}<extra></extra>",
           "ids": [
            "United States",
            "Luxembourg",
            "United Arab Emirates",
            "Qatar",
            "Norway"
           ],
           "legendgroup": "",
           "marker": {
            "color": "#636efa",
            "pattern": {
             "shape": ""
            }
           },
           "name": "",
           "offsetgroup": "",
           "orientation": "h",
           "showlegend": false,
           "textposition": "auto",
           "type": "bar",
           "x": [
            46266.296875,
            51709.734375,
            54077.46875,
            57541.1015625,
            58840.4140625
           ],
           "xaxis": "x",
           "y": [
            "United States",
            "Luxembourg",
            "United Arab Emirates",
            "Qatar",
            "Norway"
           ],
           "yaxis": "y"
          }
         ],
         "name": "2002"
        },
        {
         "data": [
          {
           "alignmentgroup": "True",
           "hovertemplate": "Year=2003<br>GDP per capita=%{x}<br>Entity=%{y}<extra></extra>",
           "ids": [
            "Kuwait",
            "Luxembourg",
            "United Arab Emirates",
            "Norway",
            "Qatar"
           ],
           "legendgroup": "",
           "marker": {
            "color": "#636efa",
            "pattern": {
             "shape": ""
            }
           },
           "name": "",
           "offsetgroup": "",
           "orientation": "h",
           "showlegend": false,
           "textposition": "auto",
           "type": "bar",
           "x": [
            48809.7109375,
            51717.03125,
            59823.265625,
            60852.2578125,
            62234.21484375
           ],
           "xaxis": "x",
           "y": [
            "Kuwait",
            "Luxembourg",
            "United Arab Emirates",
            "Norway",
            "Qatar"
           ],
           "yaxis": "y"
          }
         ],
         "name": "2003"
        },
        {
         "data": [
          {
           "alignmentgroup": "True",
           "hovertemplate": "Year=2004<br>GDP per capita=%{x}<br>Entity=%{y}<extra></extra>",
           "ids": [
            "Luxembourg",
            "Kuwait",
            "Norway",
            "United Arab Emirates",
            "Qatar"
           ],
           "legendgroup": "",
           "marker": {
            "color": "#636efa",
            "pattern": {
             "shape": ""
            }
           },
           "name": "",
           "offsetgroup": "",
           "orientation": "h",
           "showlegend": false,
           "textposition": "auto",
           "type": "bar",
           "x": [
            52624.1640625,
            55911.79296875,
            64824.14453125,
            64925.671875,
            74372.9296875
           ],
           "xaxis": "x",
           "y": [
            "Luxembourg",
            "Kuwait",
            "Norway",
            "United Arab Emirates",
            "Qatar"
           ],
           "yaxis": "y"
          }
         ],
         "name": "2004"
        },
        {
         "data": [
          {
           "alignmentgroup": "True",
           "hovertemplate": "Year=2005<br>GDP per capita=%{x}<br>Entity=%{y}<extra></extra>",
           "ids": [
            "Luxembourg",
            "Kuwait",
            "United Arab Emirates",
            "Norway",
            "Qatar"
           ],
           "legendgroup": "",
           "marker": {
            "color": "#636efa",
            "pattern": {
             "shape": ""
            }
           },
           "name": "",
           "offsetgroup": "",
           "orientation": "h",
           "showlegend": false,
           "textposition": "auto",
           "type": "bar",
           "x": [
            53262.09375,
            62959.6015625,
            65599.0546875,
            68108.5546875,
            76808.421875
           ],
           "xaxis": "x",
           "y": [
            "Luxembourg",
            "Kuwait",
            "United Arab Emirates",
            "Norway",
            "Qatar"
           ],
           "yaxis": "y"
          }
         ],
         "name": "2005"
        },
        {
         "data": [
          {
           "alignmentgroup": "True",
           "hovertemplate": "Year=2006<br>GDP per capita=%{x}<br>Entity=%{y}<extra></extra>",
           "ids": [
            "Luxembourg",
            "United Arab Emirates",
            "Kuwait",
            "Norway",
            "Qatar"
           ],
           "legendgroup": "",
           "marker": {
            "color": "#636efa",
            "pattern": {
             "shape": ""
            }
           },
           "name": "",
           "offsetgroup": "",
           "orientation": "h",
           "showlegend": false,
           "textposition": "auto",
           "type": "bar",
           "x": [
            54920.80859375,
            67830.9296875,
            68546.140625,
            71310.53125,
            90120.921875
           ],
           "xaxis": "x",
           "y": [
            "Luxembourg",
            "United Arab Emirates",
            "Kuwait",
            "Norway",
            "Qatar"
           ],
           "yaxis": "y"
          }
         ],
         "name": "2006"
        },
        {
         "data": [
          {
           "alignmentgroup": "True",
           "hovertemplate": "Year=2007<br>GDP per capita=%{x}<br>Entity=%{y}<extra></extra>",
           "ids": [
            "Luxembourg",
            "United Arab Emirates",
            "Kuwait",
            "Norway",
            "Qatar"
           ],
           "legendgroup": "",
           "marker": {
            "color": "#636efa",
            "pattern": {
             "shape": ""
            }
           },
           "name": "",
           "offsetgroup": "",
           "orientation": "h",
           "showlegend": false,
           "textposition": "auto",
           "type": "bar",
           "x": [
            58369.703125,
            65412.80078125,
            73096.8671875,
            74879.8125,
            97912.6875
           ],
           "xaxis": "x",
           "y": [
            "Luxembourg",
            "United Arab Emirates",
            "Kuwait",
            "Norway",
            "Qatar"
           ],
           "yaxis": "y"
          }
         ],
         "name": "2007"
        },
        {
         "data": [
          {
           "alignmentgroup": "True",
           "hovertemplate": "Year=2008<br>GDP per capita=%{x}<br>Entity=%{y}<extra></extra>",
           "ids": [
            "Luxembourg",
            "United Arab Emirates",
            "Kuwait",
            "Norway",
            "Qatar"
           ],
           "legendgroup": "",
           "marker": {
            "color": "#636efa",
            "pattern": {
             "shape": ""
            }
           },
           "name": "",
           "offsetgroup": "",
           "orientation": "h",
           "showlegend": false,
           "textposition": "auto",
           "type": "bar",
           "x": [
            56383.19140625,
            63862.0859375,
            75138.1171875,
            76522.0625,
            107402.0546875
           ],
           "xaxis": "x",
           "y": [
            "Luxembourg",
            "United Arab Emirates",
            "Kuwait",
            "Norway",
            "Qatar"
           ],
           "yaxis": "y"
          }
         ],
         "name": "2008"
        },
        {
         "data": [
          {
           "alignmentgroup": "True",
           "hovertemplate": "Year=2009<br>GDP per capita=%{x}<br>Entity=%{y}<extra></extra>",
           "ids": [
            "Switzerland",
            "United Arab Emirates",
            "Kuwait",
            "Norway",
            "Qatar"
           ],
           "legendgroup": "",
           "marker": {
            "color": "#636efa",
            "pattern": {
             "shape": ""
            }
           },
           "name": "",
           "offsetgroup": "",
           "orientation": "h",
           "showlegend": false,
           "textposition": "auto",
           "type": "bar",
           "x": [
            55171.5,
            58860.53515625,
            70072.7265625,
            76625.6328125,
            115283.4140625
           ],
           "xaxis": "x",
           "y": [
            "Switzerland",
            "United Arab Emirates",
            "Kuwait",
            "Norway",
            "Qatar"
           ],
           "yaxis": "y"
          }
         ],
         "name": "2009"
        },
        {
         "data": [
          {
           "alignmentgroup": "True",
           "hovertemplate": "Year=2010<br>GDP per capita=%{x}<br>Entity=%{y}<extra></extra>",
           "ids": [
            "Singapore",
            "United Arab Emirates",
            "Kuwait",
            "Norway",
            "Qatar"
           ],
           "legendgroup": "",
           "marker": {
            "color": "#636efa",
            "pattern": {
             "shape": ""
            }
           },
           "name": "",
           "offsetgroup": "",
           "orientation": "h",
           "showlegend": false,
           "textposition": "auto",
           "type": "bar",
           "x": [
            58612.73046875,
            60112.40234375,
            68865.3125,
            78476.1484375,
            134802.78125
           ],
           "xaxis": "x",
           "y": [
            "Singapore",
            "United Arab Emirates",
            "Kuwait",
            "Norway",
            "Qatar"
           ],
           "yaxis": "y"
          }
         ],
         "name": "2010"
        },
        {
         "data": [
          {
           "alignmentgroup": "True",
           "hovertemplate": "Year=2011<br>GDP per capita=%{x}<br>Entity=%{y}<extra></extra>",
           "ids": [
            "Singapore",
            "United Arab Emirates",
            "Kuwait",
            "Norway",
            "Qatar"
           ],
           "legendgroup": "",
           "marker": {
            "color": "#636efa",
            "pattern": {
             "shape": ""
            }
           },
           "name": "",
           "offsetgroup": "",
           "orientation": "h",
           "showlegend": false,
           "textposition": "auto",
           "type": "bar",
           "x": [
            61672,
            65307,
            77126,
            80623,
            155533
           ],
           "xaxis": "x",
           "y": [
            "Singapore",
            "United Arab Emirates",
            "Kuwait",
            "Norway",
            "Qatar"
           ],
           "yaxis": "y"
          }
         ],
         "name": "2011"
        },
        {
         "data": [
          {
           "alignmentgroup": "True",
           "hovertemplate": "Year=2012<br>GDP per capita=%{x}<br>Entity=%{y}<extra></extra>",
           "ids": [
            "Singapore",
            "United Arab Emirates",
            "Kuwait",
            "Norway",
            "Qatar"
           ],
           "legendgroup": "",
           "marker": {
            "color": "#636efa",
            "pattern": {
             "shape": ""
            }
           },
           "name": "",
           "offsetgroup": "",
           "orientation": "h",
           "showlegend": false,
           "textposition": "auto",
           "type": "bar",
           "x": [
            62783,
            68255,
            78801,
            81759,
            153922
           ],
           "xaxis": "x",
           "y": [
            "Singapore",
            "United Arab Emirates",
            "Kuwait",
            "Norway",
            "Qatar"
           ],
           "yaxis": "y"
          }
         ],
         "name": "2012"
        },
        {
         "data": [
          {
           "alignmentgroup": "True",
           "hovertemplate": "Year=2013<br>GDP per capita=%{x}<br>Entity=%{y}<extra></extra>",
           "ids": [
            "Singapore",
            "United Arab Emirates",
            "Kuwait",
            "Norway",
            "Qatar"
           ],
           "legendgroup": "",
           "marker": {
            "color": "#636efa",
            "pattern": {
             "shape": ""
            }
           },
           "name": "",
           "offsetgroup": "",
           "orientation": "h",
           "showlegend": false,
           "textposition": "auto",
           "type": "bar",
           "x": [
            64633,
            70791,
            75256,
            81583,
            154159
           ],
           "xaxis": "x",
           "y": [
            "Singapore",
            "United Arab Emirates",
            "Kuwait",
            "Norway",
            "Qatar"
           ],
           "yaxis": "y"
          }
         ],
         "name": "2013"
        },
        {
         "data": [
          {
           "alignmentgroup": "True",
           "hovertemplate": "Year=2014<br>GDP per capita=%{x}<br>Entity=%{y}<extra></extra>",
           "ids": [
            "Singapore",
            "Kuwait",
            "United Arab Emirates",
            "Norway",
            "Qatar"
           ],
           "legendgroup": "",
           "marker": {
            "color": "#636efa",
            "pattern": {
             "shape": ""
            }
           },
           "name": "",
           "offsetgroup": "",
           "orientation": "h",
           "showlegend": false,
           "textposition": "auto",
           "type": "bar",
           "x": [
            65655,
            72508,
            72601,
            82216,
            155069
           ],
           "xaxis": "x",
           "y": [
            "Singapore",
            "Kuwait",
            "United Arab Emirates",
            "Norway",
            "Qatar"
           ],
           "yaxis": "y"
          }
         ],
         "name": "2014"
        },
        {
         "data": [
          {
           "alignmentgroup": "True",
           "hovertemplate": "Year=2015<br>GDP per capita=%{x}<br>Entity=%{y}<extra></extra>",
           "ids": [
            "Singapore",
            "Kuwait",
            "United Arab Emirates",
            "Norway",
            "Qatar"
           ],
           "legendgroup": "",
           "marker": {
            "color": "#636efa",
            "pattern": {
             "shape": ""
            }
           },
           "name": "",
           "offsetgroup": "",
           "orientation": "h",
           "showlegend": false,
           "textposition": "auto",
           "type": "bar",
           "x": [
            65660,
            71354,
            74746,
            82713,
            156029
           ],
           "xaxis": "x",
           "y": [
            "Singapore",
            "Kuwait",
            "United Arab Emirates",
            "Norway",
            "Qatar"
           ],
           "yaxis": "y"
          }
         ],
         "name": "2015"
        },
        {
         "data": [
          {
           "alignmentgroup": "True",
           "hovertemplate": "Year=2016<br>GDP per capita=%{x}<br>Entity=%{y}<extra></extra>",
           "ids": [
            "Singapore",
            "Kuwait",
            "United Arab Emirates",
            "Norway",
            "Qatar"
           ],
           "legendgroup": "",
           "marker": {
            "color": "#636efa",
            "pattern": {
             "shape": ""
            }
           },
           "name": "",
           "offsetgroup": "",
           "orientation": "h",
           "showlegend": false,
           "textposition": "auto",
           "type": "bar",
           "x": [
            65729,
            71010,
            75876,
            82814,
            156299
           ],
           "xaxis": "x",
           "y": [
            "Singapore",
            "Kuwait",
            "United Arab Emirates",
            "Norway",
            "Qatar"
           ],
           "yaxis": "y"
          }
         ],
         "name": "2016"
        },
        {
         "data": [
          {
           "alignmentgroup": "True",
           "hovertemplate": "Year=2017<br>GDP per capita=%{x}<br>Entity=%{y}<extra></extra>",
           "ids": [
            "Kuwait",
            "Singapore",
            "United Arab Emirates",
            "Norway",
            "Qatar"
           ],
           "legendgroup": "",
           "marker": {
            "color": "#636efa",
            "pattern": {
             "shape": ""
            }
           },
           "name": "",
           "offsetgroup": "",
           "orientation": "h",
           "showlegend": false,
           "textposition": "auto",
           "type": "bar",
           "x": [
            66010.1328125,
            67331.03125,
            76643.5,
            84056.3359375,
            154669.03125
           ],
           "xaxis": "x",
           "y": [
            "Kuwait",
            "Singapore",
            "United Arab Emirates",
            "Norway",
            "Qatar"
           ],
           "yaxis": "y"
          }
         ],
         "name": "2017"
        },
        {
         "data": [
          {
           "alignmentgroup": "True",
           "hovertemplate": "Year=2018<br>GDP per capita=%{x}<br>Entity=%{y}<extra></extra>",
           "ids": [
            "Kuwait",
            "Singapore",
            "United Arab Emirates",
            "Norway",
            "Qatar"
           ],
           "legendgroup": "",
           "marker": {
            "color": "#636efa",
            "pattern": {
             "shape": ""
            }
           },
           "name": "",
           "offsetgroup": "",
           "orientation": "h",
           "showlegend": false,
           "textposition": "auto",
           "type": "bar",
           "x": [
            65520.73828125,
            68402.34375,
            76397.8203125,
            84580.1328125,
            153764.171875
           ],
           "xaxis": "x",
           "y": [
            "Kuwait",
            "Singapore",
            "United Arab Emirates",
            "Norway",
            "Qatar"
           ],
           "yaxis": "y"
          }
         ],
         "name": "2018"
        }
       ],
       "layout": {
        "barmode": "relative",
        "legend": {
         "tracegroupgap": 0
        },
        "margin": {
         "t": 60
        },
        "sliders": [
         {
          "active": 0,
          "currentvalue": {
           "prefix": "Year="
          },
          "len": 0.9,
          "pad": {
           "b": 10,
           "t": 60
          },
          "steps": [
           {
            "args": [
             [
              "1969"
             ],
             {
              "frame": {
               "duration": 0,
               "redraw": true
              },
              "fromcurrent": true,
              "mode": "immediate",
              "transition": {
               "duration": 0,
               "easing": "linear"
              }
             }
            ],
            "label": "1969",
            "method": "animate"
           },
           {
            "args": [
             [
              "1970"
             ],
             {
              "frame": {
               "duration": 0,
               "redraw": true
              },
              "fromcurrent": true,
              "mode": "immediate",
              "transition": {
               "duration": 0,
               "easing": "linear"
              }
             }
            ],
            "label": "1970",
            "method": "animate"
           },
           {
            "args": [
             [
              "1971"
             ],
             {
              "frame": {
               "duration": 0,
               "redraw": true
              },
              "fromcurrent": true,
              "mode": "immediate",
              "transition": {
               "duration": 0,
               "easing": "linear"
              }
             }
            ],
            "label": "1971",
            "method": "animate"
           },
           {
            "args": [
             [
              "1972"
             ],
             {
              "frame": {
               "duration": 0,
               "redraw": true
              },
              "fromcurrent": true,
              "mode": "immediate",
              "transition": {
               "duration": 0,
               "easing": "linear"
              }
             }
            ],
            "label": "1972",
            "method": "animate"
           },
           {
            "args": [
             [
              "1973"
             ],
             {
              "frame": {
               "duration": 0,
               "redraw": true
              },
              "fromcurrent": true,
              "mode": "immediate",
              "transition": {
               "duration": 0,
               "easing": "linear"
              }
             }
            ],
            "label": "1973",
            "method": "animate"
           },
           {
            "args": [
             [
              "1974"
             ],
             {
              "frame": {
               "duration": 0,
               "redraw": true
              },
              "fromcurrent": true,
              "mode": "immediate",
              "transition": {
               "duration": 0,
               "easing": "linear"
              }
             }
            ],
            "label": "1974",
            "method": "animate"
           },
           {
            "args": [
             [
              "1975"
             ],
             {
              "frame": {
               "duration": 0,
               "redraw": true
              },
              "fromcurrent": true,
              "mode": "immediate",
              "transition": {
               "duration": 0,
               "easing": "linear"
              }
             }
            ],
            "label": "1975",
            "method": "animate"
           },
           {
            "args": [
             [
              "1976"
             ],
             {
              "frame": {
               "duration": 0,
               "redraw": true
              },
              "fromcurrent": true,
              "mode": "immediate",
              "transition": {
               "duration": 0,
               "easing": "linear"
              }
             }
            ],
            "label": "1976",
            "method": "animate"
           },
           {
            "args": [
             [
              "1977"
             ],
             {
              "frame": {
               "duration": 0,
               "redraw": true
              },
              "fromcurrent": true,
              "mode": "immediate",
              "transition": {
               "duration": 0,
               "easing": "linear"
              }
             }
            ],
            "label": "1977",
            "method": "animate"
           },
           {
            "args": [
             [
              "1978"
             ],
             {
              "frame": {
               "duration": 0,
               "redraw": true
              },
              "fromcurrent": true,
              "mode": "immediate",
              "transition": {
               "duration": 0,
               "easing": "linear"
              }
             }
            ],
            "label": "1978",
            "method": "animate"
           },
           {
            "args": [
             [
              "1979"
             ],
             {
              "frame": {
               "duration": 0,
               "redraw": true
              },
              "fromcurrent": true,
              "mode": "immediate",
              "transition": {
               "duration": 0,
               "easing": "linear"
              }
             }
            ],
            "label": "1979",
            "method": "animate"
           },
           {
            "args": [
             [
              "1980"
             ],
             {
              "frame": {
               "duration": 0,
               "redraw": true
              },
              "fromcurrent": true,
              "mode": "immediate",
              "transition": {
               "duration": 0,
               "easing": "linear"
              }
             }
            ],
            "label": "1980",
            "method": "animate"
           },
           {
            "args": [
             [
              "1981"
             ],
             {
              "frame": {
               "duration": 0,
               "redraw": true
              },
              "fromcurrent": true,
              "mode": "immediate",
              "transition": {
               "duration": 0,
               "easing": "linear"
              }
             }
            ],
            "label": "1981",
            "method": "animate"
           },
           {
            "args": [
             [
              "1982"
             ],
             {
              "frame": {
               "duration": 0,
               "redraw": true
              },
              "fromcurrent": true,
              "mode": "immediate",
              "transition": {
               "duration": 0,
               "easing": "linear"
              }
             }
            ],
            "label": "1982",
            "method": "animate"
           },
           {
            "args": [
             [
              "1983"
             ],
             {
              "frame": {
               "duration": 0,
               "redraw": true
              },
              "fromcurrent": true,
              "mode": "immediate",
              "transition": {
               "duration": 0,
               "easing": "linear"
              }
             }
            ],
            "label": "1983",
            "method": "animate"
           },
           {
            "args": [
             [
              "1984"
             ],
             {
              "frame": {
               "duration": 0,
               "redraw": true
              },
              "fromcurrent": true,
              "mode": "immediate",
              "transition": {
               "duration": 0,
               "easing": "linear"
              }
             }
            ],
            "label": "1984",
            "method": "animate"
           },
           {
            "args": [
             [
              "1985"
             ],
             {
              "frame": {
               "duration": 0,
               "redraw": true
              },
              "fromcurrent": true,
              "mode": "immediate",
              "transition": {
               "duration": 0,
               "easing": "linear"
              }
             }
            ],
            "label": "1985",
            "method": "animate"
           },
           {
            "args": [
             [
              "1986"
             ],
             {
              "frame": {
               "duration": 0,
               "redraw": true
              },
              "fromcurrent": true,
              "mode": "immediate",
              "transition": {
               "duration": 0,
               "easing": "linear"
              }
             }
            ],
            "label": "1986",
            "method": "animate"
           },
           {
            "args": [
             [
              "1987"
             ],
             {
              "frame": {
               "duration": 0,
               "redraw": true
              },
              "fromcurrent": true,
              "mode": "immediate",
              "transition": {
               "duration": 0,
               "easing": "linear"
              }
             }
            ],
            "label": "1987",
            "method": "animate"
           },
           {
            "args": [
             [
              "1988"
             ],
             {
              "frame": {
               "duration": 0,
               "redraw": true
              },
              "fromcurrent": true,
              "mode": "immediate",
              "transition": {
               "duration": 0,
               "easing": "linear"
              }
             }
            ],
            "label": "1988",
            "method": "animate"
           },
           {
            "args": [
             [
              "1989"
             ],
             {
              "frame": {
               "duration": 0,
               "redraw": true
              },
              "fromcurrent": true,
              "mode": "immediate",
              "transition": {
               "duration": 0,
               "easing": "linear"
              }
             }
            ],
            "label": "1989",
            "method": "animate"
           },
           {
            "args": [
             [
              "1990"
             ],
             {
              "frame": {
               "duration": 0,
               "redraw": true
              },
              "fromcurrent": true,
              "mode": "immediate",
              "transition": {
               "duration": 0,
               "easing": "linear"
              }
             }
            ],
            "label": "1990",
            "method": "animate"
           },
           {
            "args": [
             [
              "1991"
             ],
             {
              "frame": {
               "duration": 0,
               "redraw": true
              },
              "fromcurrent": true,
              "mode": "immediate",
              "transition": {
               "duration": 0,
               "easing": "linear"
              }
             }
            ],
            "label": "1991",
            "method": "animate"
           },
           {
            "args": [
             [
              "1992"
             ],
             {
              "frame": {
               "duration": 0,
               "redraw": true
              },
              "fromcurrent": true,
              "mode": "immediate",
              "transition": {
               "duration": 0,
               "easing": "linear"
              }
             }
            ],
            "label": "1992",
            "method": "animate"
           },
           {
            "args": [
             [
              "1993"
             ],
             {
              "frame": {
               "duration": 0,
               "redraw": true
              },
              "fromcurrent": true,
              "mode": "immediate",
              "transition": {
               "duration": 0,
               "easing": "linear"
              }
             }
            ],
            "label": "1993",
            "method": "animate"
           },
           {
            "args": [
             [
              "1994"
             ],
             {
              "frame": {
               "duration": 0,
               "redraw": true
              },
              "fromcurrent": true,
              "mode": "immediate",
              "transition": {
               "duration": 0,
               "easing": "linear"
              }
             }
            ],
            "label": "1994",
            "method": "animate"
           },
           {
            "args": [
             [
              "1995"
             ],
             {
              "frame": {
               "duration": 0,
               "redraw": true
              },
              "fromcurrent": true,
              "mode": "immediate",
              "transition": {
               "duration": 0,
               "easing": "linear"
              }
             }
            ],
            "label": "1995",
            "method": "animate"
           },
           {
            "args": [
             [
              "1996"
             ],
             {
              "frame": {
               "duration": 0,
               "redraw": true
              },
              "fromcurrent": true,
              "mode": "immediate",
              "transition": {
               "duration": 0,
               "easing": "linear"
              }
             }
            ],
            "label": "1996",
            "method": "animate"
           },
           {
            "args": [
             [
              "1997"
             ],
             {
              "frame": {
               "duration": 0,
               "redraw": true
              },
              "fromcurrent": true,
              "mode": "immediate",
              "transition": {
               "duration": 0,
               "easing": "linear"
              }
             }
            ],
            "label": "1997",
            "method": "animate"
           },
           {
            "args": [
             [
              "1998"
             ],
             {
              "frame": {
               "duration": 0,
               "redraw": true
              },
              "fromcurrent": true,
              "mode": "immediate",
              "transition": {
               "duration": 0,
               "easing": "linear"
              }
             }
            ],
            "label": "1998",
            "method": "animate"
           },
           {
            "args": [
             [
              "1999"
             ],
             {
              "frame": {
               "duration": 0,
               "redraw": true
              },
              "fromcurrent": true,
              "mode": "immediate",
              "transition": {
               "duration": 0,
               "easing": "linear"
              }
             }
            ],
            "label": "1999",
            "method": "animate"
           },
           {
            "args": [
             [
              "2000"
             ],
             {
              "frame": {
               "duration": 0,
               "redraw": true
              },
              "fromcurrent": true,
              "mode": "immediate",
              "transition": {
               "duration": 0,
               "easing": "linear"
              }
             }
            ],
            "label": "2000",
            "method": "animate"
           },
           {
            "args": [
             [
              "2001"
             ],
             {
              "frame": {
               "duration": 0,
               "redraw": true
              },
              "fromcurrent": true,
              "mode": "immediate",
              "transition": {
               "duration": 0,
               "easing": "linear"
              }
             }
            ],
            "label": "2001",
            "method": "animate"
           },
           {
            "args": [
             [
              "2002"
             ],
             {
              "frame": {
               "duration": 0,
               "redraw": true
              },
              "fromcurrent": true,
              "mode": "immediate",
              "transition": {
               "duration": 0,
               "easing": "linear"
              }
             }
            ],
            "label": "2002",
            "method": "animate"
           },
           {
            "args": [
             [
              "2003"
             ],
             {
              "frame": {
               "duration": 0,
               "redraw": true
              },
              "fromcurrent": true,
              "mode": "immediate",
              "transition": {
               "duration": 0,
               "easing": "linear"
              }
             }
            ],
            "label": "2003",
            "method": "animate"
           },
           {
            "args": [
             [
              "2004"
             ],
             {
              "frame": {
               "duration": 0,
               "redraw": true
              },
              "fromcurrent": true,
              "mode": "immediate",
              "transition": {
               "duration": 0,
               "easing": "linear"
              }
             }
            ],
            "label": "2004",
            "method": "animate"
           },
           {
            "args": [
             [
              "2005"
             ],
             {
              "frame": {
               "duration": 0,
               "redraw": true
              },
              "fromcurrent": true,
              "mode": "immediate",
              "transition": {
               "duration": 0,
               "easing": "linear"
              }
             }
            ],
            "label": "2005",
            "method": "animate"
           },
           {
            "args": [
             [
              "2006"
             ],
             {
              "frame": {
               "duration": 0,
               "redraw": true
              },
              "fromcurrent": true,
              "mode": "immediate",
              "transition": {
               "duration": 0,
               "easing": "linear"
              }
             }
            ],
            "label": "2006",
            "method": "animate"
           },
           {
            "args": [
             [
              "2007"
             ],
             {
              "frame": {
               "duration": 0,
               "redraw": true
              },
              "fromcurrent": true,
              "mode": "immediate",
              "transition": {
               "duration": 0,
               "easing": "linear"
              }
             }
            ],
            "label": "2007",
            "method": "animate"
           },
           {
            "args": [
             [
              "2008"
             ],
             {
              "frame": {
               "duration": 0,
               "redraw": true
              },
              "fromcurrent": true,
              "mode": "immediate",
              "transition": {
               "duration": 0,
               "easing": "linear"
              }
             }
            ],
            "label": "2008",
            "method": "animate"
           },
           {
            "args": [
             [
              "2009"
             ],
             {
              "frame": {
               "duration": 0,
               "redraw": true
              },
              "fromcurrent": true,
              "mode": "immediate",
              "transition": {
               "duration": 0,
               "easing": "linear"
              }
             }
            ],
            "label": "2009",
            "method": "animate"
           },
           {
            "args": [
             [
              "2010"
             ],
             {
              "frame": {
               "duration": 0,
               "redraw": true
              },
              "fromcurrent": true,
              "mode": "immediate",
              "transition": {
               "duration": 0,
               "easing": "linear"
              }
             }
            ],
            "label": "2010",
            "method": "animate"
           },
           {
            "args": [
             [
              "2011"
             ],
             {
              "frame": {
               "duration": 0,
               "redraw": true
              },
              "fromcurrent": true,
              "mode": "immediate",
              "transition": {
               "duration": 0,
               "easing": "linear"
              }
             }
            ],
            "label": "2011",
            "method": "animate"
           },
           {
            "args": [
             [
              "2012"
             ],
             {
              "frame": {
               "duration": 0,
               "redraw": true
              },
              "fromcurrent": true,
              "mode": "immediate",
              "transition": {
               "duration": 0,
               "easing": "linear"
              }
             }
            ],
            "label": "2012",
            "method": "animate"
           },
           {
            "args": [
             [
              "2013"
             ],
             {
              "frame": {
               "duration": 0,
               "redraw": true
              },
              "fromcurrent": true,
              "mode": "immediate",
              "transition": {
               "duration": 0,
               "easing": "linear"
              }
             }
            ],
            "label": "2013",
            "method": "animate"
           },
           {
            "args": [
             [
              "2014"
             ],
             {
              "frame": {
               "duration": 0,
               "redraw": true
              },
              "fromcurrent": true,
              "mode": "immediate",
              "transition": {
               "duration": 0,
               "easing": "linear"
              }
             }
            ],
            "label": "2014",
            "method": "animate"
           },
           {
            "args": [
             [
              "2015"
             ],
             {
              "frame": {
               "duration": 0,
               "redraw": true
              },
              "fromcurrent": true,
              "mode": "immediate",
              "transition": {
               "duration": 0,
               "easing": "linear"
              }
             }
            ],
            "label": "2015",
            "method": "animate"
           },
           {
            "args": [
             [
              "2016"
             ],
             {
              "frame": {
               "duration": 0,
               "redraw": true
              },
              "fromcurrent": true,
              "mode": "immediate",
              "transition": {
               "duration": 0,
               "easing": "linear"
              }
             }
            ],
            "label": "2016",
            "method": "animate"
           },
           {
            "args": [
             [
              "2017"
             ],
             {
              "frame": {
               "duration": 0,
               "redraw": true
              },
              "fromcurrent": true,
              "mode": "immediate",
              "transition": {
               "duration": 0,
               "easing": "linear"
              }
             }
            ],
            "label": "2017",
            "method": "animate"
           },
           {
            "args": [
             [
              "2018"
             ],
             {
              "frame": {
               "duration": 0,
               "redraw": true
              },
              "fromcurrent": true,
              "mode": "immediate",
              "transition": {
               "duration": 0,
               "easing": "linear"
              }
             }
            ],
            "label": "2018",
            "method": "animate"
           }
          ],
          "x": 0.1,
          "xanchor": "left",
          "y": 0,
          "yanchor": "top"
         }
        ],
        "template": {
         "data": {
          "bar": [
           {
            "error_x": {
             "color": "#2a3f5f"
            },
            "error_y": {
             "color": "#2a3f5f"
            },
            "marker": {
             "line": {
              "color": "#E5ECF6",
              "width": 0.5
             },
             "pattern": {
              "fillmode": "overlay",
              "size": 10,
              "solidity": 0.2
             }
            },
            "type": "bar"
           }
          ],
          "barpolar": [
           {
            "marker": {
             "line": {
              "color": "#E5ECF6",
              "width": 0.5
             },
             "pattern": {
              "fillmode": "overlay",
              "size": 10,
              "solidity": 0.2
             }
            },
            "type": "barpolar"
           }
          ],
          "carpet": [
           {
            "aaxis": {
             "endlinecolor": "#2a3f5f",
             "gridcolor": "white",
             "linecolor": "white",
             "minorgridcolor": "white",
             "startlinecolor": "#2a3f5f"
            },
            "baxis": {
             "endlinecolor": "#2a3f5f",
             "gridcolor": "white",
             "linecolor": "white",
             "minorgridcolor": "white",
             "startlinecolor": "#2a3f5f"
            },
            "type": "carpet"
           }
          ],
          "choropleth": [
           {
            "colorbar": {
             "outlinewidth": 0,
             "ticks": ""
            },
            "type": "choropleth"
           }
          ],
          "contour": [
           {
            "colorbar": {
             "outlinewidth": 0,
             "ticks": ""
            },
            "colorscale": [
             [
              0,
              "#0d0887"
             ],
             [
              0.1111111111111111,
              "#46039f"
             ],
             [
              0.2222222222222222,
              "#7201a8"
             ],
             [
              0.3333333333333333,
              "#9c179e"
             ],
             [
              0.4444444444444444,
              "#bd3786"
             ],
             [
              0.5555555555555556,
              "#d8576b"
             ],
             [
              0.6666666666666666,
              "#ed7953"
             ],
             [
              0.7777777777777778,
              "#fb9f3a"
             ],
             [
              0.8888888888888888,
              "#fdca26"
             ],
             [
              1,
              "#f0f921"
             ]
            ],
            "type": "contour"
           }
          ],
          "contourcarpet": [
           {
            "colorbar": {
             "outlinewidth": 0,
             "ticks": ""
            },
            "type": "contourcarpet"
           }
          ],
          "heatmap": [
           {
            "colorbar": {
             "outlinewidth": 0,
             "ticks": ""
            },
            "colorscale": [
             [
              0,
              "#0d0887"
             ],
             [
              0.1111111111111111,
              "#46039f"
             ],
             [
              0.2222222222222222,
              "#7201a8"
             ],
             [
              0.3333333333333333,
              "#9c179e"
             ],
             [
              0.4444444444444444,
              "#bd3786"
             ],
             [
              0.5555555555555556,
              "#d8576b"
             ],
             [
              0.6666666666666666,
              "#ed7953"
             ],
             [
              0.7777777777777778,
              "#fb9f3a"
             ],
             [
              0.8888888888888888,
              "#fdca26"
             ],
             [
              1,
              "#f0f921"
             ]
            ],
            "type": "heatmap"
           }
          ],
          "heatmapgl": [
           {
            "colorbar": {
             "outlinewidth": 0,
             "ticks": ""
            },
            "colorscale": [
             [
              0,
              "#0d0887"
             ],
             [
              0.1111111111111111,
              "#46039f"
             ],
             [
              0.2222222222222222,
              "#7201a8"
             ],
             [
              0.3333333333333333,
              "#9c179e"
             ],
             [
              0.4444444444444444,
              "#bd3786"
             ],
             [
              0.5555555555555556,
              "#d8576b"
             ],
             [
              0.6666666666666666,
              "#ed7953"
             ],
             [
              0.7777777777777778,
              "#fb9f3a"
             ],
             [
              0.8888888888888888,
              "#fdca26"
             ],
             [
              1,
              "#f0f921"
             ]
            ],
            "type": "heatmapgl"
           }
          ],
          "histogram": [
           {
            "marker": {
             "pattern": {
              "fillmode": "overlay",
              "size": 10,
              "solidity": 0.2
             }
            },
            "type": "histogram"
           }
          ],
          "histogram2d": [
           {
            "colorbar": {
             "outlinewidth": 0,
             "ticks": ""
            },
            "colorscale": [
             [
              0,
              "#0d0887"
             ],
             [
              0.1111111111111111,
              "#46039f"
             ],
             [
              0.2222222222222222,
              "#7201a8"
             ],
             [
              0.3333333333333333,
              "#9c179e"
             ],
             [
              0.4444444444444444,
              "#bd3786"
             ],
             [
              0.5555555555555556,
              "#d8576b"
             ],
             [
              0.6666666666666666,
              "#ed7953"
             ],
             [
              0.7777777777777778,
              "#fb9f3a"
             ],
             [
              0.8888888888888888,
              "#fdca26"
             ],
             [
              1,
              "#f0f921"
             ]
            ],
            "type": "histogram2d"
           }
          ],
          "histogram2dcontour": [
           {
            "colorbar": {
             "outlinewidth": 0,
             "ticks": ""
            },
            "colorscale": [
             [
              0,
              "#0d0887"
             ],
             [
              0.1111111111111111,
              "#46039f"
             ],
             [
              0.2222222222222222,
              "#7201a8"
             ],
             [
              0.3333333333333333,
              "#9c179e"
             ],
             [
              0.4444444444444444,
              "#bd3786"
             ],
             [
              0.5555555555555556,
              "#d8576b"
             ],
             [
              0.6666666666666666,
              "#ed7953"
             ],
             [
              0.7777777777777778,
              "#fb9f3a"
             ],
             [
              0.8888888888888888,
              "#fdca26"
             ],
             [
              1,
              "#f0f921"
             ]
            ],
            "type": "histogram2dcontour"
           }
          ],
          "mesh3d": [
           {
            "colorbar": {
             "outlinewidth": 0,
             "ticks": ""
            },
            "type": "mesh3d"
           }
          ],
          "parcoords": [
           {
            "line": {
             "colorbar": {
              "outlinewidth": 0,
              "ticks": ""
             }
            },
            "type": "parcoords"
           }
          ],
          "pie": [
           {
            "automargin": true,
            "type": "pie"
           }
          ],
          "scatter": [
           {
            "marker": {
             "colorbar": {
              "outlinewidth": 0,
              "ticks": ""
             }
            },
            "type": "scatter"
           }
          ],
          "scatter3d": [
           {
            "line": {
             "colorbar": {
              "outlinewidth": 0,
              "ticks": ""
             }
            },
            "marker": {
             "colorbar": {
              "outlinewidth": 0,
              "ticks": ""
             }
            },
            "type": "scatter3d"
           }
          ],
          "scattercarpet": [
           {
            "marker": {
             "colorbar": {
              "outlinewidth": 0,
              "ticks": ""
             }
            },
            "type": "scattercarpet"
           }
          ],
          "scattergeo": [
           {
            "marker": {
             "colorbar": {
              "outlinewidth": 0,
              "ticks": ""
             }
            },
            "type": "scattergeo"
           }
          ],
          "scattergl": [
           {
            "marker": {
             "colorbar": {
              "outlinewidth": 0,
              "ticks": ""
             }
            },
            "type": "scattergl"
           }
          ],
          "scattermapbox": [
           {
            "marker": {
             "colorbar": {
              "outlinewidth": 0,
              "ticks": ""
             }
            },
            "type": "scattermapbox"
           }
          ],
          "scatterpolar": [
           {
            "marker": {
             "colorbar": {
              "outlinewidth": 0,
              "ticks": ""
             }
            },
            "type": "scatterpolar"
           }
          ],
          "scatterpolargl": [
           {
            "marker": {
             "colorbar": {
              "outlinewidth": 0,
              "ticks": ""
             }
            },
            "type": "scatterpolargl"
           }
          ],
          "scatterternary": [
           {
            "marker": {
             "colorbar": {
              "outlinewidth": 0,
              "ticks": ""
             }
            },
            "type": "scatterternary"
           }
          ],
          "surface": [
           {
            "colorbar": {
             "outlinewidth": 0,
             "ticks": ""
            },
            "colorscale": [
             [
              0,
              "#0d0887"
             ],
             [
              0.1111111111111111,
              "#46039f"
             ],
             [
              0.2222222222222222,
              "#7201a8"
             ],
             [
              0.3333333333333333,
              "#9c179e"
             ],
             [
              0.4444444444444444,
              "#bd3786"
             ],
             [
              0.5555555555555556,
              "#d8576b"
             ],
             [
              0.6666666666666666,
              "#ed7953"
             ],
             [
              0.7777777777777778,
              "#fb9f3a"
             ],
             [
              0.8888888888888888,
              "#fdca26"
             ],
             [
              1,
              "#f0f921"
             ]
            ],
            "type": "surface"
           }
          ],
          "table": [
           {
            "cells": {
             "fill": {
              "color": "#EBF0F8"
             },
             "line": {
              "color": "white"
             }
            },
            "header": {
             "fill": {
              "color": "#C8D4E3"
             },
             "line": {
              "color": "white"
             }
            },
            "type": "table"
           }
          ]
         },
         "layout": {
          "annotationdefaults": {
           "arrowcolor": "#2a3f5f",
           "arrowhead": 0,
           "arrowwidth": 1
          },
          "autotypenumbers": "strict",
          "coloraxis": {
           "colorbar": {
            "outlinewidth": 0,
            "ticks": ""
           }
          },
          "colorscale": {
           "diverging": [
            [
             0,
             "#8e0152"
            ],
            [
             0.1,
             "#c51b7d"
            ],
            [
             0.2,
             "#de77ae"
            ],
            [
             0.3,
             "#f1b6da"
            ],
            [
             0.4,
             "#fde0ef"
            ],
            [
             0.5,
             "#f7f7f7"
            ],
            [
             0.6,
             "#e6f5d0"
            ],
            [
             0.7,
             "#b8e186"
            ],
            [
             0.8,
             "#7fbc41"
            ],
            [
             0.9,
             "#4d9221"
            ],
            [
             1,
             "#276419"
            ]
           ],
           "sequential": [
            [
             0,
             "#0d0887"
            ],
            [
             0.1111111111111111,
             "#46039f"
            ],
            [
             0.2222222222222222,
             "#7201a8"
            ],
            [
             0.3333333333333333,
             "#9c179e"
            ],
            [
             0.4444444444444444,
             "#bd3786"
            ],
            [
             0.5555555555555556,
             "#d8576b"
            ],
            [
             0.6666666666666666,
             "#ed7953"
            ],
            [
             0.7777777777777778,
             "#fb9f3a"
            ],
            [
             0.8888888888888888,
             "#fdca26"
            ],
            [
             1,
             "#f0f921"
            ]
           ],
           "sequentialminus": [
            [
             0,
             "#0d0887"
            ],
            [
             0.1111111111111111,
             "#46039f"
            ],
            [
             0.2222222222222222,
             "#7201a8"
            ],
            [
             0.3333333333333333,
             "#9c179e"
            ],
            [
             0.4444444444444444,
             "#bd3786"
            ],
            [
             0.5555555555555556,
             "#d8576b"
            ],
            [
             0.6666666666666666,
             "#ed7953"
            ],
            [
             0.7777777777777778,
             "#fb9f3a"
            ],
            [
             0.8888888888888888,
             "#fdca26"
            ],
            [
             1,
             "#f0f921"
            ]
           ]
          },
          "colorway": [
           "#636efa",
           "#EF553B",
           "#00cc96",
           "#ab63fa",
           "#FFA15A",
           "#19d3f3",
           "#FF6692",
           "#B6E880",
           "#FF97FF",
           "#FECB52"
          ],
          "font": {
           "color": "#2a3f5f"
          },
          "geo": {
           "bgcolor": "white",
           "lakecolor": "white",
           "landcolor": "#E5ECF6",
           "showlakes": true,
           "showland": true,
           "subunitcolor": "white"
          },
          "hoverlabel": {
           "align": "left"
          },
          "hovermode": "closest",
          "mapbox": {
           "style": "light"
          },
          "paper_bgcolor": "white",
          "plot_bgcolor": "#E5ECF6",
          "polar": {
           "angularaxis": {
            "gridcolor": "white",
            "linecolor": "white",
            "ticks": ""
           },
           "bgcolor": "#E5ECF6",
           "radialaxis": {
            "gridcolor": "white",
            "linecolor": "white",
            "ticks": ""
           }
          },
          "scene": {
           "xaxis": {
            "backgroundcolor": "#E5ECF6",
            "gridcolor": "white",
            "gridwidth": 2,
            "linecolor": "white",
            "showbackground": true,
            "ticks": "",
            "zerolinecolor": "white"
           },
           "yaxis": {
            "backgroundcolor": "#E5ECF6",
            "gridcolor": "white",
            "gridwidth": 2,
            "linecolor": "white",
            "showbackground": true,
            "ticks": "",
            "zerolinecolor": "white"
           },
           "zaxis": {
            "backgroundcolor": "#E5ECF6",
            "gridcolor": "white",
            "gridwidth": 2,
            "linecolor": "white",
            "showbackground": true,
            "ticks": "",
            "zerolinecolor": "white"
           }
          },
          "shapedefaults": {
           "line": {
            "color": "#2a3f5f"
           }
          },
          "ternary": {
           "aaxis": {
            "gridcolor": "white",
            "linecolor": "white",
            "ticks": ""
           },
           "baxis": {
            "gridcolor": "white",
            "linecolor": "white",
            "ticks": ""
           },
           "bgcolor": "#E5ECF6",
           "caxis": {
            "gridcolor": "white",
            "linecolor": "white",
            "ticks": ""
           }
          },
          "title": {
           "x": 0.05
          },
          "xaxis": {
           "automargin": true,
           "gridcolor": "white",
           "linecolor": "white",
           "ticks": "",
           "title": {
            "standoff": 15
           },
           "zerolinecolor": "white",
           "zerolinewidth": 2
          },
          "yaxis": {
           "automargin": true,
           "gridcolor": "white",
           "linecolor": "white",
           "ticks": "",
           "title": {
            "standoff": 15
           },
           "zerolinecolor": "white",
           "zerolinewidth": 2
          }
         }
        },
        "updatemenus": [
         {
          "buttons": [
           {
            "args": [
             null,
             {
              "frame": {
               "duration": 500,
               "redraw": true
              },
              "fromcurrent": true,
              "mode": "immediate",
              "transition": {
               "duration": 500,
               "easing": "linear"
              }
             }
            ],
            "label": "&#9654;",
            "method": "animate"
           },
           {
            "args": [
             [
              null
             ],
             {
              "frame": {
               "duration": 0,
               "redraw": true
              },
              "fromcurrent": true,
              "mode": "immediate",
              "transition": {
               "duration": 0,
               "easing": "linear"
              }
             }
            ],
            "label": "&#9724;",
            "method": "animate"
           }
          ],
          "direction": "left",
          "pad": {
           "r": 10,
           "t": 70
          },
          "showactive": false,
          "type": "buttons",
          "x": 0.1,
          "xanchor": "right",
          "y": 0,
          "yanchor": "top"
         }
        ],
        "xaxis": {
         "anchor": "y",
         "domain": [
          0,
          1
         ],
         "title": {
          "text": "GDP per capita"
         }
        },
        "yaxis": {
         "anchor": "x",
         "domain": [
          0,
          1
         ],
         "title": {
          "text": "Entity"
         }
        }
       }
      }
     },
     "metadata": {},
     "output_type": "display_data"
    }
   ],
   "source": [
    "import plotly.express as px\n",
    "\n",
    "fig = px.bar(df_2, x='GDP per capita', y='Entity', orientation='h', animation_frame='Year', animation_group='Entity')\n",
    "fig.show()"
   ]
  },
  {
   "cell_type": "code",
   "execution_count": 17,
   "metadata": {},
   "outputs": [
    {
     "data": {
      "application/vnd.plotly.v1+json": {
       "config": {
        "plotlyServerURL": "https://plot.ly"
       },
       "data": [
        {
         "insidetextanchor": "middle",
         "orientation": "h",
         "text": [
          22307.673828125,
          24195,
          33415,
          40639,
          56236
         ],
         "textfont": {
          "size": 18
         },
         "textposition": "inside",
         "texttemplate": "%{text:.3s}",
         "type": "bar",
         "width": 0.9,
         "x": [
          22307.673828125,
          24195,
          33415,
          40639,
          56236
         ],
         "y": [
          "Switzerland",
          "United States",
          "Kuwait",
          "United Arab Emirates",
          "Qatar"
         ]
        }
       ],
       "frames": [
        {
         "data": [
          {
           "orientation": "h",
           "text": [
            22307.673828125,
            24195,
            33415,
            40639,
            56236
           ],
           "type": "bar",
           "x": [
            22307.673828125,
            24195,
            33415,
            40639,
            56236
           ],
           "y": [
            "Switzerland",
            "United States",
            "Kuwait",
            "United Arab Emirates",
            "Qatar"
           ]
          }
         ],
         "layout": {
          "title": {
           "font": {
            "size": 28
           },
           "text": "GDP Per Capita Per Country: 1969"
          }
         }
        },
        {
         "data": [
          {
           "orientation": "h",
           "text": [
            23478.9921875,
            23958,
            39135,
            48927,
            51921
           ],
           "type": "bar",
           "x": [
            23478.9921875,
            23958,
            39135,
            48927,
            51921
           ],
           "y": [
            "Switzerland",
            "United States",
            "United Arab Emirates",
            "Kuwait",
            "Qatar"
           ]
          }
         ],
         "layout": {
          "title": {
           "font": {
            "size": 28
           },
           "text": "GDP Per Capita Per Country: 1970"
          }
         }
        },
        {
         "data": [
          {
           "orientation": "h",
           "text": [
            24394,
            24486.978515625,
            39540,
            49302,
            59731
           ],
           "type": "bar",
           "x": [
            24394,
            24486.978515625,
            39540,
            49302,
            59731
           ],
           "y": [
            "United States",
            "Switzerland",
            "United Arab Emirates",
            "Kuwait",
            "Qatar"
           ]
          }
         ],
         "layout": {
          "title": {
           "font": {
            "size": 28
           },
           "text": "GDP Per Capita Per Country: 1971"
          }
         }
        },
        {
         "data": [
          {
           "orientation": "h",
           "text": [
            25356.91015625,
            25414,
            39540,
            48283,
            62416
           ],
           "type": "bar",
           "x": [
            25356.91015625,
            25414,
            39540,
            48283,
            62416
           ],
           "y": [
            "Switzerland",
            "United States",
            "United Arab Emirates",
            "Kuwait",
            "Qatar"
           ]
          }
         ],
         "layout": {
          "title": {
           "font": {
            "size": 28
           },
           "text": "GDP Per Capita Per Country: 1972"
          }
         }
        },
        {
         "data": [
          {
           "orientation": "h",
           "text": [
            26003.71484375,
            26602,
            39669,
            42542,
            68407
           ],
           "type": "bar",
           "x": [
            26003.71484375,
            26602,
            39669,
            42542,
            68407
           ],
           "y": [
            "Switzerland",
            "United States",
            "United Arab Emirates",
            "Kuwait",
            "Qatar"
           ]
          }
         ],
         "layout": {
          "title": {
           "font": {
            "size": 28
           },
           "text": "GDP Per Capita Per Country: 1973"
          }
         }
        },
        {
         "data": [
          {
           "orientation": "h",
           "text": [
            25718.26953125,
            26286,
            34962,
            45347,
            57594
           ],
           "type": "bar",
           "x": [
            25718.26953125,
            26286,
            34962,
            45347,
            57594
           ],
           "y": [
            "Switzerland",
            "United States",
            "Kuwait",
            "United Arab Emirates",
            "Qatar"
           ]
          }
         ],
         "layout": {
          "title": {
           "font": {
            "size": 28
           },
           "text": "GDP Per Capita Per Country: 1974"
          }
         }
        },
        {
         "data": [
          {
           "orientation": "h",
           "text": [
            24467.9921875,
            25956,
            28950,
            40591,
            54866
           ],
           "type": "bar",
           "x": [
            24467.9921875,
            25956,
            28950,
            40591,
            54866
           ],
           "y": [
            "Switzerland",
            "United States",
            "Kuwait",
            "United Arab Emirates",
            "Qatar"
           ]
          }
         ],
         "layout": {
          "title": {
           "font": {
            "size": 28
           },
           "text": "GDP Per Capita Per Country: 1975"
          }
         }
        },
        {
         "data": [
          {
           "orientation": "h",
           "text": [
            24752.908203125,
            27058,
            28956,
            40803,
            55169
           ],
           "type": "bar",
           "x": [
            24752.908203125,
            27058,
            28956,
            40803,
            55169
           ],
           "y": [
            "Switzerland",
            "United States",
            "Kuwait",
            "United Arab Emirates",
            "Qatar"
           ]
          }
         ],
         "layout": {
          "title": {
           "font": {
            "size": 28
           },
           "text": "GDP Per Capita Per Country: 1976"
          }
         }
        },
        {
         "data": [
          {
           "orientation": "h",
           "text": [
            25430.568359375,
            26168,
            28001,
            41915,
            45999
           ],
           "type": "bar",
           "x": [
            25430.568359375,
            26168,
            28001,
            41915,
            45999
           ],
           "y": [
            "Switzerland",
            "Kuwait",
            "United States",
            "United Arab Emirates",
            "Qatar"
           ]
          }
         ],
         "layout": {
          "title": {
           "font": {
            "size": 28
           },
           "text": "GDP Per Capita Per Country: 1977"
          }
         }
        },
        {
         "data": [
          {
           "orientation": "h",
           "text": [
            26158.80078125,
            26363,
            29286,
            35936,
            47072
           ],
           "type": "bar",
           "x": [
            26158.80078125,
            26363,
            29286,
            35936,
            47072
           ],
           "y": [
            "Switzerland",
            "Kuwait",
            "United States",
            "United Arab Emirates",
            "Qatar"
           ]
          }
         ],
         "layout": {
          "title": {
           "font": {
            "size": 28
           },
           "text": "GDP Per Capita Per Country: 1978"
          }
         }
        },
        {
         "data": [
          {
           "orientation": "h",
           "text": [
            26641.095703125,
            28174,
            29949,
            39534,
            45806
           ],
           "type": "bar",
           "x": [
            26641.095703125,
            28174,
            29949,
            39534,
            45806
           ],
           "y": [
            "Switzerland",
            "Kuwait",
            "United States",
            "United Arab Emirates",
            "Qatar"
           ]
          }
         ],
         "layout": {
          "title": {
           "font": {
            "size": 28
           },
           "text": "GDP Per Capita Per Country: 1979"
          }
         }
        },
        {
         "data": [
          {
           "orientation": "h",
           "text": [
            27405.73046875,
            28786.76171875,
            29611,
            44168,
            45860
           ],
           "type": "bar",
           "x": [
            27405.73046875,
            28786.76171875,
            29611,
            44168,
            45860
           ],
           "y": [
            "Switzerland",
            "Western Offshoots",
            "United States",
            "United Arab Emirates",
            "Qatar"
           ]
          }
         ],
         "layout": {
          "title": {
           "font": {
            "size": 28
           },
           "text": "GDP Per Capita Per Country: 1980"
          }
         }
        },
        {
         "data": [
          {
           "orientation": "h",
           "text": [
            26256,
            27729.5859375,
            30056,
            37307,
            42456
           ],
           "type": "bar",
           "x": [
            26256,
            27729.5859375,
            30056,
            37307,
            42456
           ],
           "y": [
            "Canada",
            "Switzerland",
            "United States",
            "Qatar",
            "United Arab Emirates"
           ]
          }
         ],
         "layout": {
          "title": {
           "font": {
            "size": 28
           },
           "text": "GDP Per Capita Per Country: 1981"
          }
         }
        },
        {
         "data": [
          {
           "orientation": "h",
           "text": [
            25477,
            27660.94921875,
            29046,
            29210,
            36635
           ],
           "type": "bar",
           "x": [
            25477,
            27660.94921875,
            29046,
            29210,
            36635
           ],
           "y": [
            "Iceland",
            "Switzerland",
            "Qatar",
            "United States",
            "United Arab Emirates"
           ]
          }
         ],
         "layout": {
          "title": {
           "font": {
            "size": 28
           },
           "text": "GDP Per Capita Per Country: 1982"
          }
         }
        },
        {
         "data": [
          {
           "orientation": "h",
           "text": [
            25625,
            25738,
            28009.328125,
            30158,
            32737
           ],
           "type": "bar",
           "x": [
            25625,
            25738,
            28009.328125,
            30158,
            32737
           ],
           "y": [
            "Canada",
            "Luxembourg",
            "Switzerland",
            "United States",
            "United Arab Emirates"
           ]
          }
         ],
         "layout": {
          "title": {
           "font": {
            "size": 28
           },
           "text": "GDP Per Capita Per Country: 1983"
          }
         }
        },
        {
         "data": [
          {
           "orientation": "h",
           "text": [
            26836,
            27303,
            28315.08203125,
            32076,
            32135
           ],
           "type": "bar",
           "x": [
            26836,
            27303,
            28315.08203125,
            32076,
            32135
           ],
           "y": [
            "Canada",
            "Luxembourg",
            "Switzerland",
            "United States",
            "United Arab Emirates"
           ]
          }
         ],
         "layout": {
          "title": {
           "font": {
            "size": 28
           },
           "text": "GDP Per Capita Per Country: 1984"
          }
         }
        },
        {
         "data": [
          {
           "orientation": "h",
           "text": [
            28025,
            28032,
            29416.751953125,
            29562,
            33023
           ],
           "type": "bar",
           "x": [
            28025,
            28032,
            29416.751953125,
            29562,
            33023
           ],
           "y": [
            "Canada",
            "Luxembourg",
            "Switzerland",
            "United Arab Emirates",
            "United States"
           ]
          }
         ],
         "layout": {
          "title": {
           "font": {
            "size": 28
           },
           "text": "GDP Per Capita Per Country: 1985"
          }
         }
        },
        {
         "data": [
          {
           "orientation": "h",
           "text": [
            28504,
            28681,
            30051,
            30847.994140625,
            33850
           ],
           "type": "bar",
           "x": [
            28504,
            28681,
            30051,
            30847.994140625,
            33850
           ],
           "y": [
            "Norway",
            "Denmark",
            "Luxembourg",
            "Switzerland",
            "United States"
           ]
          }
         ],
         "layout": {
          "title": {
           "font": {
            "size": 28
           },
           "text": "GDP Per Capita Per Country: 1986"
          }
         }
        },
        {
         "data": [
          {
           "orientation": "h",
           "text": [
            29246,
            29576,
            30533,
            31774.37109375,
            34730
           ],
           "type": "bar",
           "x": [
            29246,
            29576,
            30533,
            31774.37109375,
            34730
           ],
           "y": [
            "Canada",
            "Iceland",
            "Luxembourg",
            "Switzerland",
            "United States"
           ]
          }
         ],
         "layout": {
          "title": {
           "font": {
            "size": 28
           },
           "text": "GDP Per Capita Per Country: 1987"
          }
         }
        },
        {
         "data": [
          {
           "orientation": "h",
           "text": [
            29049,
            30275,
            32482.908203125,
            33351,
            35863
           ],
           "type": "bar",
           "x": [
            29049,
            30275,
            32482.908203125,
            33351,
            35863
           ],
           "y": [
            "Denmark",
            "Canada",
            "Switzerland",
            "Luxembourg",
            "United States"
           ]
          }
         ],
         "layout": {
          "title": {
           "font": {
            "size": 28
           },
           "text": "GDP Per Capita Per Country: 1988"
          }
         }
        },
        {
         "data": [
          {
           "orientation": "h",
           "text": [
            29108,
            30458,
            33315.5859375,
            36442,
            36756
           ],
           "type": "bar",
           "x": [
            29108,
            30458,
            33315.5859375,
            36442,
            36756
           ],
           "y": [
            "Denmark",
            "Canada",
            "Switzerland",
            "Luxembourg",
            "United States"
           ]
          }
         ],
         "layout": {
          "title": {
           "font": {
            "size": 28
           },
           "text": "GDP Per Capita Per Country: 1989"
          }
         }
        },
        {
         "data": [
          {
           "orientation": "h",
           "text": [
            30082,
            34250,
            35619.375,
            36706,
            36982
           ],
           "type": "bar",
           "x": [
            30082,
            34250,
            35619.375,
            36706,
            36982
           ],
           "y": [
            "Canada",
            "Switzerland",
            "Western Offshoots",
            "Luxembourg",
            "United States"
           ]
          }
         ],
         "layout": {
          "title": {
           "font": {
            "size": 28
           },
           "text": "GDP Per Capita Per Country: 1990"
          }
         }
        },
        {
         "data": [
          {
           "orientation": "h",
           "text": [
            30837.431640625,
            31127.67578125,
            34128.640625,
            36463.95703125,
            39198.30078125
           ],
           "type": "bar",
           "x": [
            30837.431640625,
            31127.67578125,
            34128.640625,
            36463.95703125,
            39198.30078125
           ],
           "y": [
            "Japan",
            "Norway",
            "Switzerland",
            "United States",
            "Luxembourg"
           ]
          }
         ],
         "layout": {
          "title": {
           "font": {
            "size": 28
           },
           "text": "GDP Per Capita Per Country: 1991"
          }
         }
        },
        {
         "data": [
          {
           "orientation": "h",
           "text": [
            30977.814453125,
            33041.20703125,
            34356.80078125,
            37240.30078125,
            39231.59375
           ],
           "type": "bar",
           "x": [
            30977.814453125,
            33041.20703125,
            34356.80078125,
            37240.30078125,
            39231.59375
           ],
           "y": [
            "Japan",
            "Norway",
            "Switzerland",
            "United States",
            "Luxembourg"
           ]
          }
         ],
         "layout": {
          "title": {
           "font": {
            "size": 28
           },
           "text": "GDP Per Capita Per Country: 1992"
          }
         }
        },
        {
         "data": [
          {
           "orientation": "h",
           "text": [
            31242.19921875,
            34625.53515625,
            34819.515625,
            37761.53515625,
            40179.49609375
           ],
           "type": "bar",
           "x": [
            31242.19921875,
            34625.53515625,
            34819.515625,
            37761.53515625,
            40179.49609375
           ],
           "y": [
            "Hong Kong",
            "Switzerland",
            "Norway",
            "United States",
            "Luxembourg"
           ]
          }
         ],
         "layout": {
          "title": {
           "font": {
            "size": 28
           },
           "text": "GDP Per Capita Per Country: 1993"
          }
         }
        },
        {
         "data": [
          {
           "orientation": "h",
           "text": [
            32359.296875,
            35423.828125,
            37492.8359375,
            38807.28125,
            40990.7109375
           ],
           "type": "bar",
           "x": [
            32359.296875,
            35423.828125,
            37492.8359375,
            38807.28125,
            40990.7109375
           ],
           "y": [
            "Denmark",
            "Switzerland",
            "Norway",
            "United States",
            "Luxembourg"
           ]
          }
         ],
         "layout": {
          "title": {
           "font": {
            "size": 28
           },
           "text": "GDP Per Capita Per Country: 1994"
          }
         }
        },
        {
         "data": [
          {
           "orientation": "h",
           "text": [
            33356.140625,
            36004.23046875,
            39390.625,
            40043.796875,
            40838.56640625
           ],
           "type": "bar",
           "x": [
            33356.140625,
            36004.23046875,
            39390.625,
            40043.796875,
            40838.56640625
           ],
           "y": [
            "Denmark",
            "Switzerland",
            "United States",
            "Norway",
            "Luxembourg"
           ]
          }
         ],
         "layout": {
          "title": {
           "font": {
            "size": 28
           },
           "text": "GDP Per Capita Per Country: 1995"
          }
         }
        },
        {
         "data": [
          {
           "orientation": "h",
           "text": [
            34325.44140625,
            36720.4921875,
            40412.75,
            40687.90234375,
            43133.14453125
           ],
           "type": "bar",
           "x": [
            34325.44140625,
            36720.4921875,
            40412.75,
            40687.90234375,
            43133.14453125
           ],
           "y": [
            "Denmark",
            "Switzerland",
            "United States",
            "Luxembourg",
            "Norway"
           ]
          }
         ],
         "layout": {
          "title": {
           "font": {
            "size": 28
           },
           "text": "GDP Per Capita Per Country: 1996"
          }
         }
        },
        {
         "data": [
          {
           "orientation": "h",
           "text": [
            38165.4765625,
            38168.46484375,
            41722.671875,
            42311.34375,
            46556.48046875
           ],
           "type": "bar",
           "x": [
            38165.4765625,
            38168.46484375,
            41722.671875,
            42311.34375,
            46556.48046875
           ],
           "y": [
            "Switzerland",
            "United Arab Emirates",
            "United States",
            "Luxembourg",
            "Norway"
           ]
          }
         ],
         "layout": {
          "title": {
           "font": {
            "size": 28
           },
           "text": "GDP Per Capita Per Country: 1997"
          }
         }
        },
        {
         "data": [
          {
           "orientation": "h",
           "text": [
            39667.79296875,
            39890.5390625,
            43072.7578125,
            44142.55859375,
            48956.73046875
           ],
           "type": "bar",
           "x": [
            39667.79296875,
            39890.5390625,
            43072.7578125,
            44142.55859375,
            48956.73046875
           ],
           "y": [
            "United Arab Emirates",
            "Switzerland",
            "United States",
            "Luxembourg",
            "Norway"
           ]
          }
         ],
         "layout": {
          "title": {
           "font": {
            "size": 28
           },
           "text": "GDP Per Capita Per Country: 1998"
          }
         }
        },
        {
         "data": [
          {
           "orientation": "h",
           "text": [
            41091.63671875,
            42372.4375,
            44575.84765625,
            47061.109375,
            51129.18359375
           ],
           "type": "bar",
           "x": [
            41091.63671875,
            42372.4375,
            44575.84765625,
            47061.109375,
            51129.18359375
           ],
           "y": [
            "Switzerland",
            "United Arab Emirates",
            "United States",
            "Luxembourg",
            "Norway"
           ]
          }
         ],
         "layout": {
          "title": {
           "font": {
            "size": 28
           },
           "text": "GDP Per Capita Per Country: 1999"
          }
         }
        },
        {
         "data": [
          {
           "orientation": "h",
           "text": [
            45788.12109375,
            45886.46875,
            48888.03125,
            50063.82421875,
            54039.9609375
           ],
           "type": "bar",
           "x": [
            45788.12109375,
            45886.46875,
            48888.03125,
            50063.82421875,
            54039.9609375
           ],
           "y": [
            "Qatar",
            "United States",
            "United Arab Emirates",
            "Luxembourg",
            "Norway"
           ]
          }
         ],
         "layout": {
          "title": {
           "font": {
            "size": 28
           },
           "text": "GDP Per Capita Per Country: 2000"
          }
         }
        },
        {
         "data": [
          {
           "orientation": "h",
           "text": [
            45878.0078125,
            50525.70703125,
            50527.6640625,
            51263.375,
            56578.37890625
           ],
           "type": "bar",
           "x": [
            45878.0078125,
            50525.70703125,
            50527.6640625,
            51263.375,
            56578.37890625
           ],
           "y": [
            "United States",
            "Qatar",
            "Luxembourg",
            "United Arab Emirates",
            "Norway"
           ]
          }
         ],
         "layout": {
          "title": {
           "font": {
            "size": 28
           },
           "text": "GDP Per Capita Per Country: 2001"
          }
         }
        },
        {
         "data": [
          {
           "orientation": "h",
           "text": [
            46266.296875,
            51709.734375,
            54077.46875,
            57541.1015625,
            58840.4140625
           ],
           "type": "bar",
           "x": [
            46266.296875,
            51709.734375,
            54077.46875,
            57541.1015625,
            58840.4140625
           ],
           "y": [
            "United States",
            "Luxembourg",
            "United Arab Emirates",
            "Qatar",
            "Norway"
           ]
          }
         ],
         "layout": {
          "title": {
           "font": {
            "size": 28
           },
           "text": "GDP Per Capita Per Country: 2002"
          }
         }
        },
        {
         "data": [
          {
           "orientation": "h",
           "text": [
            48809.7109375,
            51717.03125,
            59823.265625,
            60852.2578125,
            62234.21484375
           ],
           "type": "bar",
           "x": [
            48809.7109375,
            51717.03125,
            59823.265625,
            60852.2578125,
            62234.21484375
           ],
           "y": [
            "Kuwait",
            "Luxembourg",
            "United Arab Emirates",
            "Norway",
            "Qatar"
           ]
          }
         ],
         "layout": {
          "title": {
           "font": {
            "size": 28
           },
           "text": "GDP Per Capita Per Country: 2003"
          }
         }
        },
        {
         "data": [
          {
           "orientation": "h",
           "text": [
            52624.1640625,
            55911.79296875,
            64824.14453125,
            64925.671875,
            74372.9296875
           ],
           "type": "bar",
           "x": [
            52624.1640625,
            55911.79296875,
            64824.14453125,
            64925.671875,
            74372.9296875
           ],
           "y": [
            "Luxembourg",
            "Kuwait",
            "Norway",
            "United Arab Emirates",
            "Qatar"
           ]
          }
         ],
         "layout": {
          "title": {
           "font": {
            "size": 28
           },
           "text": "GDP Per Capita Per Country: 2004"
          }
         }
        },
        {
         "data": [
          {
           "orientation": "h",
           "text": [
            53262.09375,
            62959.6015625,
            65599.0546875,
            68108.5546875,
            76808.421875
           ],
           "type": "bar",
           "x": [
            53262.09375,
            62959.6015625,
            65599.0546875,
            68108.5546875,
            76808.421875
           ],
           "y": [
            "Luxembourg",
            "Kuwait",
            "United Arab Emirates",
            "Norway",
            "Qatar"
           ]
          }
         ],
         "layout": {
          "title": {
           "font": {
            "size": 28
           },
           "text": "GDP Per Capita Per Country: 2005"
          }
         }
        },
        {
         "data": [
          {
           "orientation": "h",
           "text": [
            54920.80859375,
            67830.9296875,
            68546.140625,
            71310.53125,
            90120.921875
           ],
           "type": "bar",
           "x": [
            54920.80859375,
            67830.9296875,
            68546.140625,
            71310.53125,
            90120.921875
           ],
           "y": [
            "Luxembourg",
            "United Arab Emirates",
            "Kuwait",
            "Norway",
            "Qatar"
           ]
          }
         ],
         "layout": {
          "title": {
           "font": {
            "size": 28
           },
           "text": "GDP Per Capita Per Country: 2006"
          }
         }
        },
        {
         "data": [
          {
           "orientation": "h",
           "text": [
            58369.703125,
            65412.80078125,
            73096.8671875,
            74879.8125,
            97912.6875
           ],
           "type": "bar",
           "x": [
            58369.703125,
            65412.80078125,
            73096.8671875,
            74879.8125,
            97912.6875
           ],
           "y": [
            "Luxembourg",
            "United Arab Emirates",
            "Kuwait",
            "Norway",
            "Qatar"
           ]
          }
         ],
         "layout": {
          "title": {
           "font": {
            "size": 28
           },
           "text": "GDP Per Capita Per Country: 2007"
          }
         }
        },
        {
         "data": [
          {
           "orientation": "h",
           "text": [
            56383.19140625,
            63862.0859375,
            75138.1171875,
            76522.0625,
            107402.0546875
           ],
           "type": "bar",
           "x": [
            56383.19140625,
            63862.0859375,
            75138.1171875,
            76522.0625,
            107402.0546875
           ],
           "y": [
            "Luxembourg",
            "United Arab Emirates",
            "Kuwait",
            "Norway",
            "Qatar"
           ]
          }
         ],
         "layout": {
          "title": {
           "font": {
            "size": 28
           },
           "text": "GDP Per Capita Per Country: 2008"
          }
         }
        },
        {
         "data": [
          {
           "orientation": "h",
           "text": [
            55171.5,
            58860.53515625,
            70072.7265625,
            76625.6328125,
            115283.4140625
           ],
           "type": "bar",
           "x": [
            55171.5,
            58860.53515625,
            70072.7265625,
            76625.6328125,
            115283.4140625
           ],
           "y": [
            "Switzerland",
            "United Arab Emirates",
            "Kuwait",
            "Norway",
            "Qatar"
           ]
          }
         ],
         "layout": {
          "title": {
           "font": {
            "size": 28
           },
           "text": "GDP Per Capita Per Country: 2009"
          }
         }
        },
        {
         "data": [
          {
           "orientation": "h",
           "text": [
            58612.73046875,
            60112.40234375,
            68865.3125,
            78476.1484375,
            134802.78125
           ],
           "type": "bar",
           "x": [
            58612.73046875,
            60112.40234375,
            68865.3125,
            78476.1484375,
            134802.78125
           ],
           "y": [
            "Singapore",
            "United Arab Emirates",
            "Kuwait",
            "Norway",
            "Qatar"
           ]
          }
         ],
         "layout": {
          "title": {
           "font": {
            "size": 28
           },
           "text": "GDP Per Capita Per Country: 2010"
          }
         }
        },
        {
         "data": [
          {
           "orientation": "h",
           "text": [
            61672,
            65307,
            77126,
            80623,
            155533
           ],
           "type": "bar",
           "x": [
            61672,
            65307,
            77126,
            80623,
            155533
           ],
           "y": [
            "Singapore",
            "United Arab Emirates",
            "Kuwait",
            "Norway",
            "Qatar"
           ]
          }
         ],
         "layout": {
          "title": {
           "font": {
            "size": 28
           },
           "text": "GDP Per Capita Per Country: 2011"
          }
         }
        },
        {
         "data": [
          {
           "orientation": "h",
           "text": [
            62783,
            68255,
            78801,
            81759,
            153922
           ],
           "type": "bar",
           "x": [
            62783,
            68255,
            78801,
            81759,
            153922
           ],
           "y": [
            "Singapore",
            "United Arab Emirates",
            "Kuwait",
            "Norway",
            "Qatar"
           ]
          }
         ],
         "layout": {
          "title": {
           "font": {
            "size": 28
           },
           "text": "GDP Per Capita Per Country: 2012"
          }
         }
        },
        {
         "data": [
          {
           "orientation": "h",
           "text": [
            64633,
            70791,
            75256,
            81583,
            154159
           ],
           "type": "bar",
           "x": [
            64633,
            70791,
            75256,
            81583,
            154159
           ],
           "y": [
            "Singapore",
            "United Arab Emirates",
            "Kuwait",
            "Norway",
            "Qatar"
           ]
          }
         ],
         "layout": {
          "title": {
           "font": {
            "size": 28
           },
           "text": "GDP Per Capita Per Country: 2013"
          }
         }
        },
        {
         "data": [
          {
           "orientation": "h",
           "text": [
            65655,
            72508,
            72601,
            82216,
            155069
           ],
           "type": "bar",
           "x": [
            65655,
            72508,
            72601,
            82216,
            155069
           ],
           "y": [
            "Singapore",
            "Kuwait",
            "United Arab Emirates",
            "Norway",
            "Qatar"
           ]
          }
         ],
         "layout": {
          "title": {
           "font": {
            "size": 28
           },
           "text": "GDP Per Capita Per Country: 2014"
          }
         }
        },
        {
         "data": [
          {
           "orientation": "h",
           "text": [
            65660,
            71354,
            74746,
            82713,
            156029
           ],
           "type": "bar",
           "x": [
            65660,
            71354,
            74746,
            82713,
            156029
           ],
           "y": [
            "Singapore",
            "Kuwait",
            "United Arab Emirates",
            "Norway",
            "Qatar"
           ]
          }
         ],
         "layout": {
          "title": {
           "font": {
            "size": 28
           },
           "text": "GDP Per Capita Per Country: 2015"
          }
         }
        },
        {
         "data": [
          {
           "orientation": "h",
           "text": [
            65729,
            71010,
            75876,
            82814,
            156299
           ],
           "type": "bar",
           "x": [
            65729,
            71010,
            75876,
            82814,
            156299
           ],
           "y": [
            "Singapore",
            "Kuwait",
            "United Arab Emirates",
            "Norway",
            "Qatar"
           ]
          }
         ],
         "layout": {
          "title": {
           "font": {
            "size": 28
           },
           "text": "GDP Per Capita Per Country: 2016"
          }
         }
        },
        {
         "data": [
          {
           "orientation": "h",
           "text": [
            66010.1328125,
            67331.03125,
            76643.5,
            84056.3359375,
            154669.03125
           ],
           "type": "bar",
           "x": [
            66010.1328125,
            67331.03125,
            76643.5,
            84056.3359375,
            154669.03125
           ],
           "y": [
            "Kuwait",
            "Singapore",
            "United Arab Emirates",
            "Norway",
            "Qatar"
           ]
          }
         ],
         "layout": {
          "title": {
           "font": {
            "size": 28
           },
           "text": "GDP Per Capita Per Country: 2017"
          }
         }
        },
        {
         "data": [
          {
           "orientation": "h",
           "text": [
            65520.73828125,
            68402.34375,
            76397.8203125,
            84580.1328125,
            153764.171875
           ],
           "type": "bar",
           "x": [
            65520.73828125,
            68402.34375,
            76397.8203125,
            84580.1328125,
            153764.171875
           ],
           "y": [
            "Kuwait",
            "Singapore",
            "United Arab Emirates",
            "Norway",
            "Qatar"
           ]
          }
         ],
         "layout": {
          "title": {
           "font": {
            "size": 28
           },
           "text": "GDP Per Capita Per Country: 2018"
          }
         }
        }
       ],
       "layout": {
        "template": {
         "data": {
          "bar": [
           {
            "error_x": {
             "color": "#2a3f5f"
            },
            "error_y": {
             "color": "#2a3f5f"
            },
            "marker": {
             "line": {
              "color": "#E5ECF6",
              "width": 0.5
             },
             "pattern": {
              "fillmode": "overlay",
              "size": 10,
              "solidity": 0.2
             }
            },
            "type": "bar"
           }
          ],
          "barpolar": [
           {
            "marker": {
             "line": {
              "color": "#E5ECF6",
              "width": 0.5
             },
             "pattern": {
              "fillmode": "overlay",
              "size": 10,
              "solidity": 0.2
             }
            },
            "type": "barpolar"
           }
          ],
          "carpet": [
           {
            "aaxis": {
             "endlinecolor": "#2a3f5f",
             "gridcolor": "white",
             "linecolor": "white",
             "minorgridcolor": "white",
             "startlinecolor": "#2a3f5f"
            },
            "baxis": {
             "endlinecolor": "#2a3f5f",
             "gridcolor": "white",
             "linecolor": "white",
             "minorgridcolor": "white",
             "startlinecolor": "#2a3f5f"
            },
            "type": "carpet"
           }
          ],
          "choropleth": [
           {
            "colorbar": {
             "outlinewidth": 0,
             "ticks": ""
            },
            "type": "choropleth"
           }
          ],
          "contour": [
           {
            "colorbar": {
             "outlinewidth": 0,
             "ticks": ""
            },
            "colorscale": [
             [
              0,
              "#0d0887"
             ],
             [
              0.1111111111111111,
              "#46039f"
             ],
             [
              0.2222222222222222,
              "#7201a8"
             ],
             [
              0.3333333333333333,
              "#9c179e"
             ],
             [
              0.4444444444444444,
              "#bd3786"
             ],
             [
              0.5555555555555556,
              "#d8576b"
             ],
             [
              0.6666666666666666,
              "#ed7953"
             ],
             [
              0.7777777777777778,
              "#fb9f3a"
             ],
             [
              0.8888888888888888,
              "#fdca26"
             ],
             [
              1,
              "#f0f921"
             ]
            ],
            "type": "contour"
           }
          ],
          "contourcarpet": [
           {
            "colorbar": {
             "outlinewidth": 0,
             "ticks": ""
            },
            "type": "contourcarpet"
           }
          ],
          "heatmap": [
           {
            "colorbar": {
             "outlinewidth": 0,
             "ticks": ""
            },
            "colorscale": [
             [
              0,
              "#0d0887"
             ],
             [
              0.1111111111111111,
              "#46039f"
             ],
             [
              0.2222222222222222,
              "#7201a8"
             ],
             [
              0.3333333333333333,
              "#9c179e"
             ],
             [
              0.4444444444444444,
              "#bd3786"
             ],
             [
              0.5555555555555556,
              "#d8576b"
             ],
             [
              0.6666666666666666,
              "#ed7953"
             ],
             [
              0.7777777777777778,
              "#fb9f3a"
             ],
             [
              0.8888888888888888,
              "#fdca26"
             ],
             [
              1,
              "#f0f921"
             ]
            ],
            "type": "heatmap"
           }
          ],
          "heatmapgl": [
           {
            "colorbar": {
             "outlinewidth": 0,
             "ticks": ""
            },
            "colorscale": [
             [
              0,
              "#0d0887"
             ],
             [
              0.1111111111111111,
              "#46039f"
             ],
             [
              0.2222222222222222,
              "#7201a8"
             ],
             [
              0.3333333333333333,
              "#9c179e"
             ],
             [
              0.4444444444444444,
              "#bd3786"
             ],
             [
              0.5555555555555556,
              "#d8576b"
             ],
             [
              0.6666666666666666,
              "#ed7953"
             ],
             [
              0.7777777777777778,
              "#fb9f3a"
             ],
             [
              0.8888888888888888,
              "#fdca26"
             ],
             [
              1,
              "#f0f921"
             ]
            ],
            "type": "heatmapgl"
           }
          ],
          "histogram": [
           {
            "marker": {
             "pattern": {
              "fillmode": "overlay",
              "size": 10,
              "solidity": 0.2
             }
            },
            "type": "histogram"
           }
          ],
          "histogram2d": [
           {
            "colorbar": {
             "outlinewidth": 0,
             "ticks": ""
            },
            "colorscale": [
             [
              0,
              "#0d0887"
             ],
             [
              0.1111111111111111,
              "#46039f"
             ],
             [
              0.2222222222222222,
              "#7201a8"
             ],
             [
              0.3333333333333333,
              "#9c179e"
             ],
             [
              0.4444444444444444,
              "#bd3786"
             ],
             [
              0.5555555555555556,
              "#d8576b"
             ],
             [
              0.6666666666666666,
              "#ed7953"
             ],
             [
              0.7777777777777778,
              "#fb9f3a"
             ],
             [
              0.8888888888888888,
              "#fdca26"
             ],
             [
              1,
              "#f0f921"
             ]
            ],
            "type": "histogram2d"
           }
          ],
          "histogram2dcontour": [
           {
            "colorbar": {
             "outlinewidth": 0,
             "ticks": ""
            },
            "colorscale": [
             [
              0,
              "#0d0887"
             ],
             [
              0.1111111111111111,
              "#46039f"
             ],
             [
              0.2222222222222222,
              "#7201a8"
             ],
             [
              0.3333333333333333,
              "#9c179e"
             ],
             [
              0.4444444444444444,
              "#bd3786"
             ],
             [
              0.5555555555555556,
              "#d8576b"
             ],
             [
              0.6666666666666666,
              "#ed7953"
             ],
             [
              0.7777777777777778,
              "#fb9f3a"
             ],
             [
              0.8888888888888888,
              "#fdca26"
             ],
             [
              1,
              "#f0f921"
             ]
            ],
            "type": "histogram2dcontour"
           }
          ],
          "mesh3d": [
           {
            "colorbar": {
             "outlinewidth": 0,
             "ticks": ""
            },
            "type": "mesh3d"
           }
          ],
          "parcoords": [
           {
            "line": {
             "colorbar": {
              "outlinewidth": 0,
              "ticks": ""
             }
            },
            "type": "parcoords"
           }
          ],
          "pie": [
           {
            "automargin": true,
            "type": "pie"
           }
          ],
          "scatter": [
           {
            "marker": {
             "colorbar": {
              "outlinewidth": 0,
              "ticks": ""
             }
            },
            "type": "scatter"
           }
          ],
          "scatter3d": [
           {
            "line": {
             "colorbar": {
              "outlinewidth": 0,
              "ticks": ""
             }
            },
            "marker": {
             "colorbar": {
              "outlinewidth": 0,
              "ticks": ""
             }
            },
            "type": "scatter3d"
           }
          ],
          "scattercarpet": [
           {
            "marker": {
             "colorbar": {
              "outlinewidth": 0,
              "ticks": ""
             }
            },
            "type": "scattercarpet"
           }
          ],
          "scattergeo": [
           {
            "marker": {
             "colorbar": {
              "outlinewidth": 0,
              "ticks": ""
             }
            },
            "type": "scattergeo"
           }
          ],
          "scattergl": [
           {
            "marker": {
             "colorbar": {
              "outlinewidth": 0,
              "ticks": ""
             }
            },
            "type": "scattergl"
           }
          ],
          "scattermapbox": [
           {
            "marker": {
             "colorbar": {
              "outlinewidth": 0,
              "ticks": ""
             }
            },
            "type": "scattermapbox"
           }
          ],
          "scatterpolar": [
           {
            "marker": {
             "colorbar": {
              "outlinewidth": 0,
              "ticks": ""
             }
            },
            "type": "scatterpolar"
           }
          ],
          "scatterpolargl": [
           {
            "marker": {
             "colorbar": {
              "outlinewidth": 0,
              "ticks": ""
             }
            },
            "type": "scatterpolargl"
           }
          ],
          "scatterternary": [
           {
            "marker": {
             "colorbar": {
              "outlinewidth": 0,
              "ticks": ""
             }
            },
            "type": "scatterternary"
           }
          ],
          "surface": [
           {
            "colorbar": {
             "outlinewidth": 0,
             "ticks": ""
            },
            "colorscale": [
             [
              0,
              "#0d0887"
             ],
             [
              0.1111111111111111,
              "#46039f"
             ],
             [
              0.2222222222222222,
              "#7201a8"
             ],
             [
              0.3333333333333333,
              "#9c179e"
             ],
             [
              0.4444444444444444,
              "#bd3786"
             ],
             [
              0.5555555555555556,
              "#d8576b"
             ],
             [
              0.6666666666666666,
              "#ed7953"
             ],
             [
              0.7777777777777778,
              "#fb9f3a"
             ],
             [
              0.8888888888888888,
              "#fdca26"
             ],
             [
              1,
              "#f0f921"
             ]
            ],
            "type": "surface"
           }
          ],
          "table": [
           {
            "cells": {
             "fill": {
              "color": "#EBF0F8"
             },
             "line": {
              "color": "white"
             }
            },
            "header": {
             "fill": {
              "color": "#C8D4E3"
             },
             "line": {
              "color": "white"
             }
            },
            "type": "table"
           }
          ]
         },
         "layout": {
          "annotationdefaults": {
           "arrowcolor": "#2a3f5f",
           "arrowhead": 0,
           "arrowwidth": 1
          },
          "autotypenumbers": "strict",
          "coloraxis": {
           "colorbar": {
            "outlinewidth": 0,
            "ticks": ""
           }
          },
          "colorscale": {
           "diverging": [
            [
             0,
             "#8e0152"
            ],
            [
             0.1,
             "#c51b7d"
            ],
            [
             0.2,
             "#de77ae"
            ],
            [
             0.3,
             "#f1b6da"
            ],
            [
             0.4,
             "#fde0ef"
            ],
            [
             0.5,
             "#f7f7f7"
            ],
            [
             0.6,
             "#e6f5d0"
            ],
            [
             0.7,
             "#b8e186"
            ],
            [
             0.8,
             "#7fbc41"
            ],
            [
             0.9,
             "#4d9221"
            ],
            [
             1,
             "#276419"
            ]
           ],
           "sequential": [
            [
             0,
             "#0d0887"
            ],
            [
             0.1111111111111111,
             "#46039f"
            ],
            [
             0.2222222222222222,
             "#7201a8"
            ],
            [
             0.3333333333333333,
             "#9c179e"
            ],
            [
             0.4444444444444444,
             "#bd3786"
            ],
            [
             0.5555555555555556,
             "#d8576b"
            ],
            [
             0.6666666666666666,
             "#ed7953"
            ],
            [
             0.7777777777777778,
             "#fb9f3a"
            ],
            [
             0.8888888888888888,
             "#fdca26"
            ],
            [
             1,
             "#f0f921"
            ]
           ],
           "sequentialminus": [
            [
             0,
             "#0d0887"
            ],
            [
             0.1111111111111111,
             "#46039f"
            ],
            [
             0.2222222222222222,
             "#7201a8"
            ],
            [
             0.3333333333333333,
             "#9c179e"
            ],
            [
             0.4444444444444444,
             "#bd3786"
            ],
            [
             0.5555555555555556,
             "#d8576b"
            ],
            [
             0.6666666666666666,
             "#ed7953"
            ],
            [
             0.7777777777777778,
             "#fb9f3a"
            ],
            [
             0.8888888888888888,
             "#fdca26"
            ],
            [
             1,
             "#f0f921"
            ]
           ]
          },
          "colorway": [
           "#636efa",
           "#EF553B",
           "#00cc96",
           "#ab63fa",
           "#FFA15A",
           "#19d3f3",
           "#FF6692",
           "#B6E880",
           "#FF97FF",
           "#FECB52"
          ],
          "font": {
           "color": "#2a3f5f"
          },
          "geo": {
           "bgcolor": "white",
           "lakecolor": "white",
           "landcolor": "#E5ECF6",
           "showlakes": true,
           "showland": true,
           "subunitcolor": "white"
          },
          "hoverlabel": {
           "align": "left"
          },
          "hovermode": "closest",
          "mapbox": {
           "style": "light"
          },
          "paper_bgcolor": "white",
          "plot_bgcolor": "#E5ECF6",
          "polar": {
           "angularaxis": {
            "gridcolor": "white",
            "linecolor": "white",
            "ticks": ""
           },
           "bgcolor": "#E5ECF6",
           "radialaxis": {
            "gridcolor": "white",
            "linecolor": "white",
            "ticks": ""
           }
          },
          "scene": {
           "xaxis": {
            "backgroundcolor": "#E5ECF6",
            "gridcolor": "white",
            "gridwidth": 2,
            "linecolor": "white",
            "showbackground": true,
            "ticks": "",
            "zerolinecolor": "white"
           },
           "yaxis": {
            "backgroundcolor": "#E5ECF6",
            "gridcolor": "white",
            "gridwidth": 2,
            "linecolor": "white",
            "showbackground": true,
            "ticks": "",
            "zerolinecolor": "white"
           },
           "zaxis": {
            "backgroundcolor": "#E5ECF6",
            "gridcolor": "white",
            "gridwidth": 2,
            "linecolor": "white",
            "showbackground": true,
            "ticks": "",
            "zerolinecolor": "white"
           }
          },
          "shapedefaults": {
           "line": {
            "color": "#2a3f5f"
           }
          },
          "ternary": {
           "aaxis": {
            "gridcolor": "white",
            "linecolor": "white",
            "ticks": ""
           },
           "baxis": {
            "gridcolor": "white",
            "linecolor": "white",
            "ticks": ""
           },
           "bgcolor": "#E5ECF6",
           "caxis": {
            "gridcolor": "white",
            "linecolor": "white",
            "ticks": ""
           }
          },
          "title": {
           "x": 0.05
          },
          "xaxis": {
           "automargin": true,
           "gridcolor": "white",
           "linecolor": "white",
           "ticks": "",
           "title": {
            "standoff": 15
           },
           "zerolinecolor": "white",
           "zerolinewidth": 2
          },
          "yaxis": {
           "automargin": true,
           "gridcolor": "white",
           "linecolor": "white",
           "ticks": "",
           "title": {
            "standoff": 15
           },
           "zerolinecolor": "white",
           "zerolinewidth": 2
          }
         }
        },
        "title": {
         "font": {
          "size": 28
         },
         "text": "GDP Per Capita Per Country: 1969",
         "x": 0.5,
         "xanchor": "center"
        },
        "updatemenus": [
         {
          "buttons": [
           {
            "args": [
             null,
             {
              "frame": {
               "duration": 300,
               "redraw": true
              },
              "transition": {
               "duration": 20,
               "easing": "linear"
              }
             }
            ],
            "label": "Play",
            "method": "animate"
           }
          ],
          "type": "buttons"
         }
        ]
       }
      }
     },
     "metadata": {},
     "output_type": "display_data"
    }
   ],
   "source": [
    "fig = go.Figure(\n",
    "    data=[go.Bar(\n",
    "        x=n_frame['1']['GDP per capita'],\n",
    "        y=n_frame['1']['Entity'],\n",
    "        orientation='h',\n",
    "        text=n_frame['1']['GDP per capita'],\n",
    "        texttemplate='%{text:.3s}',\n",
    "        textfont={'size':18},\n",
    "        textposition='inside',\n",
    "        insidetextanchor='middle',\n",
    "        width=0.9\n",
    "    )],\n",
    "    layout=go.Layout(\n",
    "        title=dict(text='GDP Per Capita Per Country: 1969', font=dict(size=28), x=0.5, xanchor='center'),\n",
    "        updatemenus=[dict(\n",
    "            type='buttons',\n",
    "            buttons=[dict(label='Play',\n",
    "                          method='animate',\n",
    "                          args=[None,\n",
    "                          {'frame': {'duration': 300, 'redraw': True},\n",
    "                          'transition': {'duration':20,\n",
    "                          'easing': 'linear'}}]\n",
    "            )]\n",
    "        )]\n",
    "    ),\n",
    "    frames=[\n",
    "        go.Frame(\n",
    "            data=[\n",
    "                go.Bar(x=value['GDP per capita'],\n",
    "                       y=value['Entity'],\n",
    "                       orientation='h',\n",
    "                       text=value['GDP per capita'])\n",
    "                    ],\n",
    "                layout=go.Layout(\n",
    "                        title=dict(text='GDP Per Capita Per Country: '+str(value['Year'].values[0]),\n",
    "                        font=dict(size=28))\n",
    "                    )\n",
    "            )\n",
    "        for key, value in n_frame.items()\n",
    "    ]\n",
    ")\n",
    "\n",
    "pio.show(fig)"
   ]
  }
 ],
 "metadata": {
  "interpreter": {
   "hash": "0a16dca8b920ed06407308d5c8584f717e84e77267a45c059152b68089b43470"
  },
  "kernelspec": {
   "display_name": "Python 3.9.5 64-bit",
   "language": "python",
   "name": "python3"
  },
  "language_info": {
   "codemirror_mode": {
    "name": "ipython",
    "version": 3
   },
   "file_extension": ".py",
   "mimetype": "text/x-python",
   "name": "python",
   "nbconvert_exporter": "python",
   "pygments_lexer": "ipython3",
   "version": "3.9.5"
  },
  "orig_nbformat": 4
 },
 "nbformat": 4,
 "nbformat_minor": 2
}
